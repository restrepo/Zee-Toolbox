{
 "cells": [
  {
   "cell_type": "code",
   "execution_count": 1,
   "metadata": {
    "collapsed": false
   },
   "outputs": [
    {
     "name": "stdout",
     "output_type": "stream",
     "text": [
      "Populating the interactive namespace from numpy and matplotlib\n"
     ]
    }
   ],
   "source": [
    "import numpy as np\n",
    "import matplotlib.pyplot as plt\n",
    "%pylab inline"
   ]
  },
  {
   "cell_type": "code",
   "execution_count": 3,
   "metadata": {
    "collapsed": false
   },
   "outputs": [
    {
     "name": "stdout",
     "output_type": "stream",
     "text": [
      "34.6339154306\n",
      "49.1975956283\n",
      "8.70386261152\n"
     ]
    }
   ],
   "source": [
    "M1 = 3.91010277E-09\n",
    "M2 =2.73151622E-04\n",
    "M3 = 3.64415977E-04 \n",
    "\n",
    "S2Sun = 0.323                                                         #S2Sun: Sino square sun angle \n",
    "S2Atm = 0.573                                                         #S2Atm: Sino square atmospheric angle \n",
    "S2Rea = 0.0229                                                        #S2Rea: Sino square reactor angle \n",
    "\n",
    "ThetSun = np.arcsin(np.sqrt(S2Sun))                               #ThetSun: Sun Angle theta12\n",
    "ThetAtm = np.arcsin(np.sqrt(S2Atm))                               #ThetAtm: Atmospheric Angle theta23\n",
    "ThetRea = np.arcsin(np.sqrt(S2Rea))                               #ThetRea: Reactor Angle theta13\n",
    "\n",
    "print ThetSun*180/np.pi\n",
    "print ThetAtm*180/np.pi\n",
    "print ThetRea*180/np.pi\n"
   ]
  },
  {
   "cell_type": "code",
   "execution_count": 4,
   "metadata": {
    "collapsed": false
   },
   "outputs": [],
   "source": [
    "Mv = np.matrix( [[M1,0.,0],[0.,M2,0.],[0.,0.,M3]] )               #Mv: Mass Matrix diag  \n",
    "USun = np.matrix( [[np.cos(ThetSun),np.sin(ThetSun),0.],[-np.sin(ThetSun),np.cos(ThetSun),0.],[0.,0.,1.]] )\n",
    "UAtm = np.matrix( [[1.,0.,0.],[0.,np.cos(ThetAtm),-np.sin(ThetAtm)],[0.,np.sin(ThetAtm),np.cos(ThetAtm)]] )\n",
    "URea = np.matrix( [[np.cos(ThetRea),0.,np.sin(ThetRea)],[0.,1.,0.],[-np.sin(ThetRea),0.,np.cos(ThetRea)]] )\n",
    "U = UAtm*URea*USun                                                #U: Rotation Matrix\n",
    "UT = np.matrix.transpose(U)                                       #UT: Transpose rotation Matrix\n"
   ]
  },
  {
   "cell_type": "code",
   "execution_count": 5,
   "metadata": {
    "collapsed": false
   },
   "outputs": [
    {
     "name": "stdout",
     "output_type": "stream",
     "text": [
      "[  3.91010277e-09   2.73151622e-04   3.64415977e-04]\n",
      "[[ 0.81332447  0.27712542  0.51157091]\n",
      " [ 0.56178581 -0.60276297 -0.56663348]\n",
      " [ 0.15132746  0.74825016 -0.64592701]]\n"
     ]
    }
   ],
   "source": [
    "M = UT*Mv*U                                                       #M: Matrix no diag\n",
    "Eig,Me = np.linalg.eig(M)                                         #Eig:Eigenvalues of M and Me:Euigenvector of M\n",
    "n = np.argsort(np.abs(Eig))                                       \n",
    "Eig = np.array([Eig[n[0]],Eig[n[1]],Eig[n[2]]])\n",
    "Mn = np.asarray(np.hstack((Me[:,n[0]],Me[:,n[1]],Me[:,n[2]])))    #Mn: Eigenvector matrix sorting\n",
    "\n",
    "print Eig\n",
    "print Mn"
   ]
  },
  {
   "cell_type": "code",
   "execution_count": 25,
   "metadata": {
    "collapsed": false
   },
   "outputs": [
    {
     "name": "stdout",
     "output_type": "stream",
     "text": [
      "[ -2.44326129e-08   2.38334502e-06  -4.13264858e-06]\n"
     ]
    }
   ],
   "source": [
    "mu=1.0000000E+02  # Muinput\n",
    "v=246.2\n",
    "Mc1=9.92358293E+01  # Hm_2\n",
    "Mc2=1.41455019E+03 \n",
    "sin2phi=np.sqrt(2.)*v*mu/(Mc2**2-Mc1**2)\n",
    "k=sin2phi*np.log(Mc2**2/Mc1**2)/(4.*np.pi)**2\n",
    "me=5.10998930E-04  # Fe_1\n",
    "mmu=1.05658372E-01  # Fe_2\n",
    "mtau=1.77669000E+00  # Fe_3\n",
    "Ml=np.matrix(np.diag([me,mmu,mtau]))\n",
    "\n",
    "f12 = 1.00000000E-02\n",
    "f13 = 0.00000000E-00\n",
    "f23 = 3.00000000E-01\n",
    "\n",
    "O11 = 1.00000000E-04\n",
    "O21 = 3.00000000E-03\n",
    "O31 = 3.00000000E-03\n",
    "\n",
    "O12 = 3.00000000E-03\n",
    "O22 = 1.00000000E-02\n",
    "O32 = 3.00000000E-03\n",
    "\n",
    "O13 = 3.00000000E-03\n",
    "O23 = 3.00000000E-03\n",
    "O33 = 1.00000000E-02\n",
    "\n",
    "\n",
    "O = np.matrix( [[O11,O21,O31],[O12,O22,O32],[O13,O23,O33]] ) \n",
    "OT = np.matrix.transpose(O)   \n",
    "F = np.matrix( [[0.,f12,f13],[-f12,0.,f23],[-f13,-f23,0.]] )\n",
    "FT = np.matrix.transpose(F)   \n",
    "Mk =k*( FT*Ml*O + OT*Ml*F )\n",
    "\n",
    "Eig1,Me1 = np.linalg.eig(Mk)                                         #Eig:Eigenvalues of M and Me:Euigenvector of M\n",
    "j = np.argsort(np.abs(Eig1))                                       \n",
    "Eig1 = np.array([Eig1[j[0]],Eig1[j[1]],Eig1[j[2]]])\n",
    "Mn1 = np.asarray(np.hstack((Me1[:,j[0]],Me1[:,j[1]],Me1[:,j[2]]))) \n",
    "\n",
    "print Eig1"
   ]
  },
  {
   "cell_type": "code",
   "execution_count": 14,
   "metadata": {
    "collapsed": false
   },
   "outputs": [
    {
     "name": "stdout",
     "output_type": "stream",
     "text": [
      "Block MASS  # Mass spectrum\r\n",
      "#   PDG code      mass          particle\r\n",
      "        25     1.25708286E+02  # hh_1\r\n",
      "        35     1.41448166E+03  # hh_2\r\n",
      "        36     1.40374062E+03  # Ah_2\r\n",
      "        37     9.92358293E+01  # Hm_2\r\n",
      "    900037     1.41455019E+03  # Hm_3\r\n",
      "        23     9.11887000E+01  # VZ\r\n",
      "        24     8.03497269E+01  # VWm\r\n",
      "         1     5.00000000E-03  # Fd_1\r\n",
      "         3     9.50000000E-02  # Fd_2\r\n",
      "         5     4.18000000E+00  # Fd_3\r\n",
      "         2     2.50000000E-03  # Fu_1\r\n",
      "         4     1.27000000E+00  # Fu_2\r\n",
      "         6     1.73500000E+02  # Fu_3\r\n",
      "        11     5.10998930E-04  # Fe_1\r\n",
      "        13     1.05658372E-01  # Fe_2\r\n",
      "        15     1.77669000E+00  # Fe_3\r\n",
      "        12    -3.91010277E-09  # Fv_1\r\n",
      "        14     2.73151622E-04  # Fv_2\r\n",
      "        16    -3.64415977E-04  # Fv_3\r\n"
     ]
    }
   ],
   "source": [
    "cat SPheno.spc.Zee | grep -i -A20 'block mass'"
   ]
  },
  {
   "cell_type": "code",
   "execution_count": 15,
   "metadata": {
    "collapsed": false
   },
   "outputs": [
    {
     "name": "stdout",
     "output_type": "stream",
     "text": [
      "BLOCK MODSEL\r\n",
      "   1   1              #  1/0: High/low scale input \r\n",
      "   2   1              # Boundary Condition  \r\n",
      "   6   1              # Generation Mixing \r\n",
      "\r\n",
      "BLOCK SMINPUTS\r\n",
      "   2   1.166370E-05   # G_F,Fermi constant \r\n",
      "   3   1.187000E-01   # alpha_s(MZ) SM MSbar \r\n",
      "   4   9.118870E+01   # Z-boson pole mass \r\n",
      "   5   4.180000E+00   # m_b(mb) SM MSbar \r\n",
      "   6   1.735000E+02   # m_top(pole) \r\n",
      "   7   1.776690E+00   # m_tau(pole) \r\n",
      "\r\n",
      "BLOCK MINPAR\r\n",
      "   1   1.0000000E-01  # Lambda1Input\r\n",
      "   2   1.3000000E-01  # Lambda2Input\r\n",
      "   3   1.1000000E+00  # Lambda3Input\r\n",
      "   4   -5.0000000E-01 # Lambda4Input\r\n",
      "   5   5.0000000E-01  # Lambda5Input\r\n",
      "   6   0.000000E+00   # Lambda6Input\r\n",
      "   7   0.000000E+00   # Lambda7Input\r\n",
      "   8   0.000000E+00   # Lambda8Input\r\n",
      "   9   0.000000E+00   # Lambda9Input\r\n",
      "   10   0.000000E+00   # Lambda10Input\r\n",
      "   11   0.000000E+00   # LambdahInput\r\n",
      "   12   4.0000000E+04  # M12input\r\n",
      "   13   1.0000000E+04  # Mhinput\r\n",
      "   14   1.0000000E+02  # Muinput\r\n",
      "   15   5.0000000E+01  # TanBeta\r\n",
      "\r\n",
      "BLOCK SPHENOINPUT\r\n",
      "   1   -1             # error level \r\n",
      "   2   0              # SPA conventions \r\n",
      "   11   1              # calculate branching ratios \r\n",
      "   13   1               # 3-Body decays: none (0), fermion (1), scalar (2), both (3)\r\n",
      "   14   0              # Run couplings to scale of decaying particle \r\n",
      "   12   1.000E-15       # write only branching ratios larger than this value\r\n",
      "   15   1.000E-40       # write only decay if width larger than this value\r\n",
      "   31   -1             # fixed GUT scale (-1: dynamical GUT scale) \r\n",
      "   32   0              # Strict unification \r\n",
      "   34   1.000E-04      # Precision of mass calculation \r\n",
      "   35   40             # Maximal number of iterations\r\n",
      "   36   5              # Minimal number of iterations before discarding points\r\n",
      "   37   1              # Set Yukawa scheme  \r\n",
      "   38   2              # 1- or 2-Loop RGEs \r\n",
      "   50   0               # Majorana phases: use only positive masses\r\n",
      "   51   0              # Write Output in CKM basis \r\n",
      "   52   1               # Write spectrum in case of tachyonic states\r\n",
      "   55   0              # Calculate loop corrected masses \r\n",
      "   61   0              # Running SM parameters\r\n",
      "   57   1              # Calculate low energy constraints \r\n",
      "   65   1              # Solution tadpole equation \r\n",
      "   75   1              # Write WHIZARD files \r\n",
      "   76   1              # Write HiggsBounds file   \r\n",
      "   86   0.             # Maximal width to be counted as invisible in Higgs decays; -1: only LSP \r\n",
      "   510   0.             # Write tree level values for tadpole solutions \r\n",
      "   515   0              # Write parameter values at GUT scale \r\n",
      "   520   1.             # Write effective Higgs couplings (HiggsBounds blocks): put 0 to use file with MadGraph! \r\n",
      "   521   1.             # Diphoton/Digluon widths including higher order \r\n",
      "   525   0.             # Write loop contributions to diphoton decay of Higgs \r\n",
      "   530   1.             # Write Blocks for Vevacious \r\n",
      "\r\n",
      "BLOCK EPSDIN\r\n",
      "   1   1   0.000000E+00   # epsD(1,1)\r\n",
      "   1   2   0.000000E+00   # epsD(1,2)\r\n",
      "   1   3   0.000000E+00   # epsD(1,3)\r\n",
      "   2   1   0.000000E+00   # epsD(2,1)\r\n",
      "   2   2   0.000000E+00   # epsD(2,2)\r\n",
      "   2   3   0.000000E+00   # epsD(2,3)\r\n",
      "   3   1   0.000000E+00   # epsD(3,1)\r\n",
      "   3   2   0.000000E+00   # epsD(3,2)\r\n",
      "   3   3   0.000000E+00   # epsD(3,3)\r\n",
      "\r\n",
      "BLOCK EPSEIN\r\n",
      "   1   1   1.000000E-04         # epsE(1,1)\r\n",
      "   1   2   3.000000E-03         # epsE(1,2)\r\n",
      "   1   3   3.000000E-03         # epsE(1,3)\r\n",
      "   2   1   3.000000E-03         # epsE(2,1)\r\n",
      "   2   2   1.000000E-02         # epsE(2,2)\r\n",
      "   2   3   3.000000E-03         # epsE(2,3)\r\n",
      "   3   1   3.000000E-03         # epsE(3,1)\r\n",
      "   3   2   3.000000E-03         # epsE(3,2)\r\n",
      "   3   3   1.000000E-02         # epsE(3,3)\r\n",
      "\r\n",
      "BLOCK EPSUIN\r\n",
      "   1   1   0.000000E+00   # epsU(1,1)\r\n",
      "   1   2   0.000000E+00   # epsU(1,2)\r\n",
      "   1   3   0.000000E+00   # epsU(1,3)\r\n",
      "   2   1   0.000000E+00   # epsU(2,1)\r\n",
      "   2   2   0.000000E+00   # epsU(2,2)\r\n",
      "   2   3   0.000000E+00   # epsU(2,3)\r\n",
      "   3   1   0.000000E+00   # epsU(3,1)\r\n",
      "   3   2   0.000000E+00   # epsU(3,2)\r\n",
      "   3   3   0.000000E+00   # epsU(3,3)\r\n",
      "\r\n",
      "BLOCK YHIN\r\n",
      "   1   1   0.000000E+00   # Yh(1,1)\r\n",
      "   1   2   1.000000E-02         # Yh(1,2)\r\n",
      "   1   3   0.000000E+00   # Yh(1,3)\r\n",
      "   2   1   -1.000000E-02        # Yh(2,1)\r\n",
      "   2   2   0.000000E+00   # Yh(2,2)\r\n",
      "   2   3   3.000000E-01         # Yh(2,3)\r\n",
      "   3   1   0.000000E+00   # Yh(3,1)\r\n",
      "   3   2   -3.000000E-01        # Yh(3,2)\r\n",
      "   3   3   0.000000E+00   # Yh(3,3)"
     ]
    }
   ],
   "source": [
    "cat LesHouches.in.Zee"
   ]
  },
  {
   "cell_type": "code",
   "execution_count": null,
   "metadata": {
    "collapsed": true
   },
   "outputs": [],
   "source": []
  }
 ],
 "metadata": {
  "kernelspec": {
   "display_name": "Python 2",
   "language": "python",
   "name": "python2"
  },
  "language_info": {
   "codemirror_mode": {
    "name": "ipython",
    "version": 2
   },
   "file_extension": ".py",
   "mimetype": "text/x-python",
   "name": "python",
   "nbconvert_exporter": "python",
   "pygments_lexer": "ipython2",
   "version": "2.7.11"
  }
 },
 "nbformat": 4,
 "nbformat_minor": 0
}
