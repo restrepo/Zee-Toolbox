{
 "cells": [
  {
   "cell_type": "code",
   "execution_count": 1,
   "metadata": {
    "collapsed": false
   },
   "outputs": [
    {
     "name": "stdout",
     "output_type": "stream",
     "text": [
      "Populating the interactive namespace from numpy and matplotlib\n"
     ]
    }
   ],
   "source": [
    "import numpy as np\n",
    "import matplotlib.pyplot as plt\n",
    "%pylab inline"
   ]
  },
  {
   "cell_type": "code",
   "execution_count": 3,
   "metadata": {
    "collapsed": false
   },
   "outputs": [
    {
     "name": "stdout",
     "output_type": "stream",
     "text": [
      "34.6339154306\n",
      "49.1975956283\n",
      "8.70386261152\n"
     ]
    }
   ],
   "source": [
    "M1 = 3.91010277E-09\n",
    "M2 =2.73151622E-04\n",
    "M3 = 3.64415977E-04 \n",
    "\n",
    "S2Sun = 0.323                                                         #S2Sun: Sino square sun angle \n",
    "S2Atm = 0.573                                                         #S2Atm: Sino square atmospheric angle \n",
    "S2Rea = 0.0229                                                        #S2Rea: Sino square reactor angle \n",
    "\n",
    "ThetSun = np.arcsin(np.sqrt(S2Sun))                               #ThetSun: Sun Angle theta12\n",
    "ThetAtm = np.arcsin(np.sqrt(S2Atm))                               #ThetAtm: Atmospheric Angle theta23\n",
    "ThetRea = np.arcsin(np.sqrt(S2Rea))                               #ThetRea: Reactor Angle theta13\n",
    "\n",
    "print ThetSun*180/np.pi\n",
    "print ThetAtm*180/np.pi\n",
    "print ThetRea*180/np.pi\n"
   ]
  },
  {
   "cell_type": "code",
   "execution_count": 4,
   "metadata": {
    "collapsed": false
   },
   "outputs": [],
   "source": [
    "Mv = np.matrix( [[M1,0.,0],[0.,M2,0.],[0.,0.,M3]] )               #Mv: Mass Matrix diag  \n",
    "USun = np.matrix( [[np.cos(ThetSun),np.sin(ThetSun),0.],[-np.sin(ThetSun),np.cos(ThetSun),0.],[0.,0.,1.]] )\n",
    "UAtm = np.matrix( [[1.,0.,0.],[0.,np.cos(ThetAtm),-np.sin(ThetAtm)],[0.,np.sin(ThetAtm),np.cos(ThetAtm)]] )\n",
    "URea = np.matrix( [[np.cos(ThetRea),0.,np.sin(ThetRea)],[0.,1.,0.],[-np.sin(ThetRea),0.,np.cos(ThetRea)]] )\n",
    "U = UAtm*URea*USun                                                #U: Rotation Matrix\n",
    "UT = np.matrix.transpose(U)                                       #UT: Transpose rotation Matrix\n"
   ]
  },
  {
   "cell_type": "code",
   "execution_count": 5,
   "metadata": {
    "collapsed": false
   },
   "outputs": [
    {
     "name": "stdout",
     "output_type": "stream",
     "text": [
      "[  3.91010277e-09   2.73151622e-04   3.64415977e-04]\n",
      "[[ 0.81332447  0.27712542  0.51157091]\n",
      " [ 0.56178581 -0.60276297 -0.56663348]\n",
      " [ 0.15132746  0.74825016 -0.64592701]]\n"
     ]
    }
   ],
   "source": [
    "M = UT*Mv*U                                                       #M: Matrix no diag\n",
    "Eig,Me = np.linalg.eig(M)                                         #Eig:Eigenvalues of M and Me:Euigenvector of M\n",
    "n = np.argsort(np.abs(Eig))                                       \n",
    "Eig = np.array([Eig[n[0]],Eig[n[1]],Eig[n[2]]])\n",
    "Mn = np.asarray(np.hstack((Me[:,n[0]],Me[:,n[1]],Me[:,n[2]])))    #Mn: Eigenvector matrix sorting\n",
    "\n",
    "print Eig\n",
    "print Mn"
   ]
  },
  {
   "cell_type": "code",
   "execution_count": 6,
   "metadata": {
    "collapsed": false
   },
   "outputs": [
    {
     "name": "stdout",
     "output_type": "stream",
     "text": [
      "[ -4.74938942e-08   7.00385994e-07  -8.33556801e-07]\n"
     ]
    }
   ],
   "source": [
    "f12 = 1.00000000E-02\n",
    "f13 = 0.00000000E-00\n",
    "f23 = 3.00000000E-01\n",
    "\n",
    "O11 = 1.00000000E-04\n",
    "O21 = 3.00000000E-03\n",
    "O31 = 3.00000000E-03\n",
    "\n",
    "O12 = 3.00000000E-03\n",
    "O22 = 1.00000000E-02\n",
    "O32 = 3.00000000E-03\n",
    "\n",
    "O13 = 3.00000000E-03\n",
    "O23 = 3.00000000E-03\n",
    "O33 = 1.00000000E-02\n",
    "\n",
    "\n",
    "O = np.matrix( [[O11,O21,O31],[O12,O22,O32],[O13,O23,O33]] ) \n",
    "OT = np.matrix.transpose(O)   \n",
    "F = np.matrix( [[0.,f12,f13],[-f12,0.,f23],[-f13,-f23,0.]] )\n",
    "FT = np.matrix.transpose(F)   \n",
    "Mk = FT*Mv*O + OT*Mv*F \n",
    "\n",
    "Eig1,Me1 = np.linalg.eig(Mk)                                         #Eig:Eigenvalues of M and Me:Euigenvector of M\n",
    "j = np.argsort(np.abs(Eig1))                                       \n",
    "Eig1 = np.array([Eig1[j[0]],Eig1[j[1]],Eig1[j[2]]])\n",
    "Mn1 = np.asarray(np.hstack((Me1[:,j[0]],Me1[:,j[1]],Me1[:,j[2]]))) \n",
    "\n",
    "print Eig1"
   ]
  },
  {
   "cell_type": "code",
   "execution_count": null,
   "metadata": {
    "collapsed": false
   },
   "outputs": [],
   "source": []
  }
 ],
 "metadata": {
  "kernelspec": {
   "display_name": "Python 2",
   "language": "python",
   "name": "python2"
  },
  "language_info": {
   "codemirror_mode": {
    "name": "ipython",
    "version": 2
   },
   "file_extension": ".py",
   "mimetype": "text/x-python",
   "name": "python",
   "nbconvert_exporter": "python",
   "pygments_lexer": "ipython2",
   "version": "2.7.11"
  }
 },
 "nbformat": 4,
 "nbformat_minor": 0
}
