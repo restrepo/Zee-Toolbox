{
 "cells": [
  {
   "cell_type": "markdown",
   "metadata": {},
   "source": [
    "#  Zee model for neutrino masses"
   ]
  },
  {
   "cell_type": "code",
   "execution_count": 3,
   "metadata": {
    "collapsed": false
   },
   "outputs": [
    {
     "name": "stderr",
     "output_type": "stream",
     "text": [
      "/home/main/anaconda2/lib/python2.7/site-packages/matplotlib/font_manager.py:273: UserWarning: Matplotlib is building the font cache using fc-list. This may take a moment.\n",
      "  warnings.warn('Matplotlib is building the font cache using fc-list. This may take a moment.')\n"
     ]
    },
    {
     "name": "stdout",
     "output_type": "stream",
     "text": [
      "Populating the interactive namespace from numpy and matplotlib\n"
     ]
    }
   ],
   "source": [
    "%pylab inline"
   ]
  },
  {
   "cell_type": "code",
   "execution_count": 4,
   "metadata": {
    "collapsed": false
   },
   "outputs": [],
   "source": [
    "import pandas as pd\n",
    "import numpy as np\n",
    "import os, sys, inspect\n",
    "import commands\n",
    "from hep import *"
   ]
  },
  {
   "cell_type": "markdown",
   "metadata": {},
   "source": [
    "Check internal configs"
   ]
  },
  {
   "cell_type": "code",
   "execution_count": 11,
   "metadata": {
    "collapsed": false
   },
   "outputs": [],
   "source": [
    "working_branch='results'\n",
    "os.path.isfile('../config_repo.sh')\n",
    "oo=commands.getoutput('bash ../config_repo.sh')\n",
    "bg=commands.getoutput('git checkout %s' %working_branch)\n",
    "if bg.find('error')>-1:\n",
    "    print 'still in branch master'"
   ]
  },
  {
   "cell_type": "markdown",
   "metadata": {},
   "source": [
    "\n",
    "## Check point"
   ]
  },
  {
   "cell_type": "code",
   "execution_count": 9,
   "metadata": {
    "collapsed": false
   },
   "outputs": [],
   "source": [
    "a=hep(MODEL='Zee')\n",
    "a.LHA.blocks['MINPAR'].entries[15]='5.0000000E+01  # TanBeta'\n",
    "#Block EPSEIN\n",
    "a.LHA.blocks['EPSEIN'].entries[1,1]='1.000000E-04         # epsE(1,1)'\n",
    "a.LHA.blocks['EPSEIN'].entries[1,2]='3.000000E-03         # epsE(1,2)'\n",
    "a.LHA.blocks['EPSEIN'].entries[1,3]='3.000000E-03         # epsE(1,3)'\n",
    "a.LHA.blocks['EPSEIN'].entries[2,1]='3.000000E-03         # epsE(2,1)'\n",
    "a.LHA.blocks['EPSEIN'].entries[2,2]='1.000000E-02         # epsE(2,2)'\n",
    "a.LHA.blocks['EPSEIN'].entries[2,3]='3.000000E-03         # epsE(2,3)'\n",
    "a.LHA.blocks['EPSEIN'].entries[3,1]='3.000000E-03         # epsE(3,1)'\n",
    "a.LHA.blocks['EPSEIN'].entries[3,2]='3.000000E-03         # epsE(3,2)'\n",
    "a.LHA.blocks['EPSEIN'].entries[3,3]='1.000000E-02         # epsE(3,3)'\n",
    "#Block YHIN \n",
    "a.LHA.blocks['YHIN'].entries[1,2]='1.000000E-02         # Yh(1,2)'\n",
    "a.LHA.blocks['YHIN'].entries[2,1]='-1.000000E-02        # Yh(2,1)'\n",
    "a.LHA.blocks['YHIN'].entries[2,3]='3.000000E-01         # Yh(2,3)'\n",
    "a.LHA.blocks['YHIN'].entries[3,2]='-3.000000E-01        # Yh(3,2)'\n",
    "spc=a.runSPheno()"
   ]
  },
  {
   "cell_type": "code",
   "execution_count": 11,
   "metadata": {
    "collapsed": false
   },
   "outputs": [
    {
     "data": {
      "text/plain": [
       "_dict([(25, 125.708286),\n",
       "       (35, 1414.48166),\n",
       "       (36, 1403.74062),\n",
       "       (37, 99.2358293),\n",
       "       (900037, 1414.55019),\n",
       "       (23, 91.1887),\n",
       "       (24, 80.3497269),\n",
       "       (1, 0.005),\n",
       "       (3, 0.095),\n",
       "       (5, 4.18),\n",
       "       (2, 0.0025),\n",
       "       (4, 1.27),\n",
       "       (6, 173.5),\n",
       "       (11, 0.00051099893),\n",
       "       (13, 0.105658372),\n",
       "       (15, 1.77669),\n",
       "       (12, -3.91010277e-09),\n",
       "       (14, 0.000273151622),\n",
       "       (16, -0.000364415977)])"
      ]
     },
     "execution_count": 11,
     "metadata": {},
     "output_type": "execute_result"
    }
   ],
   "source": [
    "spc.blocks['MASS'].entries"
   ]
  },
  {
   "cell_type": "markdown",
   "metadata": {
    "collapsed": true
   },
   "source": [
    "## Commit changes\n",
    "[Switch to a terminal to commit changes](../terminals/1):\n",
    "[![T](http://mysitemyway.com/_shared/images/icons/full_color/terminal.png)](../terminals/1)\n",
    "into branch:"
   ]
  },
  {
   "cell_type": "code",
   "execution_count": 14,
   "metadata": {
    "collapsed": false
   },
   "outputs": [
    {
     "name": "stdout",
     "output_type": "stream",
     "text": [
      "* results\n"
     ]
    }
   ],
   "source": [
    "print commands.getoutput('git branch | grep ^*' )"
   ]
  },
  {
   "cell_type": "code",
   "execution_count": null,
   "metadata": {
    "collapsed": true
   },
   "outputs": [],
   "source": []
  }
 ],
 "metadata": {
  "kernelspec": {
   "display_name": "Python 2",
   "language": "python",
   "name": "python2"
  },
  "language_info": {
   "codemirror_mode": {
    "name": "ipython",
    "version": 2
   },
   "file_extension": ".py",
   "mimetype": "text/x-python",
   "name": "python",
   "nbconvert_exporter": "python",
   "pygments_lexer": "ipython2",
   "version": "2.7.11"
  }
 },
 "nbformat": 4,
 "nbformat_minor": 0
}
