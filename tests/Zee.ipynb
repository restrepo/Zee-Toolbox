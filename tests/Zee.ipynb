{
 "cells": [
  {
   "cell_type": "markdown",
   "metadata": {},
   "source": [
    "#  Zee model for neutrino masses"
   ]
  },
  {
   "cell_type": "code",
   "execution_count": 1,
   "metadata": {
    "collapsed": false
   },
   "outputs": [
    {
     "name": "stderr",
     "output_type": "stream",
     "text": [
      "/home/main/anaconda2/lib/python2.7/site-packages/matplotlib/font_manager.py:273: UserWarning: Matplotlib is building the font cache using fc-list. This may take a moment.\n",
      "  warnings.warn('Matplotlib is building the font cache using fc-list. This may take a moment.')\n"
     ]
    },
    {
     "name": "stdout",
     "output_type": "stream",
     "text": [
      "Populating the interactive namespace from numpy and matplotlib\n"
     ]
    }
   ],
   "source": [
    "%pylab inline"
   ]
  },
  {
   "cell_type": "code",
   "execution_count": 3,
   "metadata": {
    "collapsed": false
   },
   "outputs": [],
   "source": [
    "import pandas as pd\n",
    "import numpy as np\n",
    "import os, sys, inspect\n",
    "import commands\n",
    "from hep import *"
   ]
  },
  {
   "cell_type": "markdown",
   "metadata": {},
   "source": [
    "\n",
    "## Check point"
   ]
  },
  {
   "cell_type": "code",
   "execution_count": 14,
   "metadata": {
    "collapsed": false
   },
   "outputs": [
    {
     "name": "stdout",
     "output_type": "stream",
     "text": [
      "Block MODSEL      #  \r\n",
      "1 1               #  1/0: High/low scale input \r\n",
      "2 1              # Boundary Condition  \r\n",
      "6 1               # Generation Mixing \r\n",
      "Block SMINPUTS    # Standard Model inputs \r\n",
      "2 1.166370E-05    # G_F,Fermi constant \r\n",
      "3 1.187000E-01    # alpha_s(MZ) SM MSbar \r\n",
      "4 9.118870E+01    # Z-boson pole mass \r\n",
      "5 4.180000E+00    # m_b(mb) SM MSbar \r\n",
      "6 1.735000E+02    # m_top(pole) \r\n",
      "7 1.776690E+00    # m_tau(pole) \r\n",
      "Block MINPAR      # Input parameters \r\n",
      "1   1.0000000E-01    # Lambda1Input\r\n",
      "2   1.3000000E-01    # Lambda2Input\r\n",
      "3   1.1000000E+00    # Lambda3Input\r\n",
      "4   -5.0000000E-01    # Lambda4Input\r\n",
      "5   5.0000000E-01    # Lambda5Input\r\n",
      "6   0.000000E+00    # Lambda6Input\r\n",
      "7   0.000000E+00    # Lambda7Input\r\n",
      "8   0.000000E+00    # Lambda8Input\r\n",
      "9   0.000000E+00    # Lambda9Input\r\n",
      "10   0.000000E+00    # Lambda10Input\r\n",
      "11   0.000000E+00    # LambdahInput\r\n",
      "12   4.0000000E+04    # M12input\r\n",
      "13   1.000000E+04    # Mhinput\r\n",
      "14   1.000000E+02    # Muinput\r\n",
      "15   5.0000000E+01    # TanBeta\r\n",
      "Block SPhenoInput   # SPheno specific input \r\n",
      "  1 -1              # error level \r\n",
      "  2  0              # SPA conventions \r\n",
      " 11 1               # calculate branching ratios \r\n",
      " 13 1               # 3-Body decays: none (0), fermion (1), scalar (2), both (3) \r\n",
      " 14 0               # Run couplings to scale of decaying particle \r\n",
      " 12 1.000E-04       # write only branching ratios larger than this value \r\n",
      " 15 1.000E-30       # write only decay if width larger than this value \r\n",
      " 31 -1              # fixed GUT scale (-1: dynamical GUT scale) \r\n",
      " 32 0               # Strict unification \r\n",
      " 34 1.000E-04       # Precision of mass calculation \r\n",
      " 35 40              # Maximal number of iterations\r\n",
      " 36 5               # Minimal number of iterations before discarding points\r\n",
      " 37 1               # Set Yukawa scheme  \r\n",
      " 38 2               # 1- or 2-Loop RGEs \r\n",
      " 50 0               # Majorana phases: use only positive masses (put 0 to use file with CalcHep/Micromegas!) \r\n",
      " 51 0               # Write Output in CKM basis \r\n",
      " 52 1               # Write spectrum in case of tachyonic states \r\n",
      " 55 0               # Calculate loop corrected masses \r\n",
      " 61 0               # Running SM parameters\r\n",
      " 57 1               # Calculate low energy constraints \r\n",
      " 65 1               # Solution tadpole equation \r\n",
      " 75 1               # Write WHIZARD files \r\n",
      " 76 1               # Write HiggsBounds file   \r\n",
      " 86 0.              # Maximal width to be counted as invisible in Higgs decays; -1: only LSP \r\n",
      "510 0.              # Write tree level values for tadpole solutions \r\n",
      "515 0               # Write parameter values at GUT scale \r\n",
      "520 1.              # Write effective Higgs couplings (HiggsBounds blocks): put 0 to use file with MadGraph! \r\n",
      "521 1.              # Diphoton/Digluon widths including higher order \r\n",
      "525 0.              # Write loop contributions to diphoton decay of Higgs \r\n",
      "530 1.              # Write Blocks for Vevacious \r\n",
      "Block EPSDIN    #  \r\n",
      "1 1   0.000000E+00         # epsD(1,1)\r\n",
      "1 2   0.000000E+00         # epsD(1,2)\r\n",
      "1 3   0.000000E+00         # epsD(1,3)\r\n",
      "2 1   0.000000E+00         # epsD(2,1)\r\n",
      "2 2   0.000000E+00         # epsD(2,2)\r\n",
      "2 3   0.000000E+00         # epsD(2,3)\r\n",
      "3 1   0.000000E+00         # epsD(3,1)\r\n",
      "3 2   0.000000E+00         # epsD(3,2)\r\n",
      "3 3   0.000000E+00         # epsD(3,3)\r\n",
      "Block EPSEIN    #  \r\n",
      "1 1   1.000000E-04         # epsE(1,1)\r\n",
      "1 2   3.000000E-03         # epsE(1,2)\r\n",
      "1 3   3.000000E-03         # epsE(1,3)\r\n",
      "2 1   3.000000E-03         # epsE(2,1)\r\n",
      "2 2   1.000000E-02         # epsE(2,2)\r\n",
      "2 3   3.000000E-03         # epsE(2,3)\r\n",
      "3 1   3.000000E-03         # epsE(3,1)\r\n",
      "3 2   3.000000E-03         # epsE(3,2)\r\n",
      "3 3   1.000000E-02         # epsE(3,3)\r\n",
      "Block EPSUIN    #  \r\n",
      "1 1   0.000000E+00         # epsU(1,1)\r\n",
      "1 2   0.000000E+00         # epsU(1,2)\r\n",
      "1 3   0.000000E+00         # epsU(1,3)\r\n",
      "2 1   0.000000E+00         # epsU(2,1)\r\n",
      "2 2   0.000000E+00         # epsU(2,2)\r\n",
      "2 3   0.000000E+00         # epsU(2,3)\r\n",
      "3 1   0.000000E+00         # epsU(3,1)\r\n",
      "3 2   0.000000E+00         # epsU(3,2)\r\n",
      "3 3   0.000000E+00         # epsU(3,3)\r\n",
      "Block YHIN    #  \r\n",
      "1 1   0.000000E+00         # Yh(1,1)\r\n",
      "1 2   1.000000E-02         # Yh(1,2)\r\n",
      "1 3   0.000000E+00         # Yh(1,3)\r\n",
      "2 1   -1.000000E-02         # Yh(2,1)\r\n",
      "2 2   0.000000E+00         # Yh(2,2)\r\n",
      "2 3   3.000000E-01         # Yh(2,3)\r\n",
      "3 1   0.000000E+00         # Yh(3,1)\r\n",
      "3 2   -3.000000E-01         # Yh(3,2)\r\n",
      "3 3   0.000000E+00         # Yh(3,3)\r\n"
     ]
    }
   ],
   "source": [
    "cat ../SARAH/Models/Zee/LesHouches.in.Zee"
   ]
  },
  {
   "cell_type": "code",
   "execution_count": 18,
   "metadata": {
    "collapsed": false
   },
   "outputs": [
    {
     "data": {
      "text/plain": [
       "_dict([(1, '1.0000000E-01  # Lambda1Input'),\n",
       "       (2, '1.3000000E-01  # Lambda2Input'),\n",
       "       (3, '1.1000000E+00  # Lambda3Input'),\n",
       "       (4, '-5.0000000E-01 # Lambda4Input'),\n",
       "       (5, '5.0000000E-01  # Lambda5Input'),\n",
       "       (6, '0.000000E+00   # Lambda6Input'),\n",
       "       (7, '0.000000E+00   # Lambda7Input'),\n",
       "       (8, '0.000000E+00   # Lambda8Input'),\n",
       "       (9, '0.000000E+00   # Lambda9Input'),\n",
       "       (10, '0.000000E+00   # Lambda10Input'),\n",
       "       (11, '0.000000E+00   # LambdahInput'),\n",
       "       (12, '4.0000000E+04  # M12input'),\n",
       "       (13, '0.000000E+00   # Mhinput'),\n",
       "       (14, '0.000000E+00   # Muinput'),\n",
       "       (15, '1.0000000E+01  # TanBeta')])"
      ]
     },
     "execution_count": 18,
     "metadata": {},
     "output_type": "execute_result"
    }
   ],
   "source": [
    "a.LHA.blocks['MINPAR'].entries"
   ]
  },
  {
   "cell_type": "code",
   "execution_count": 13,
   "metadata": {
    "collapsed": false
   },
   "outputs": [
    {
     "data": {
      "text/plain": [
       "_dict([((1, 1), '0.000000E+00   # epsE(1,1)'),\n",
       "       ((1, 2), '0.000000E+00   # epsE(1,2)'),\n",
       "       ((1, 3), '0.000000E+00   # epsE(1,3)'),\n",
       "       ((2, 1), '0.000000E+00   # epsE(2,1)'),\n",
       "       ((2, 2), '0.000000E+00   # epsE(2,2)'),\n",
       "       ((2, 3), '0.000000E+00   # epsE(2,3)'),\n",
       "       ((3, 1), '0.000000E+00   # epsE(3,1)'),\n",
       "       ((3, 2), '0.000000E+00   # epsE(3,2)'),\n",
       "       ((3, 3), '0.000000E+00   # epsE(3,3)')])"
      ]
     },
     "execution_count": 13,
     "metadata": {},
     "output_type": "execute_result"
    }
   ],
   "source": [
    "\n",
    "\n",
    "Block MINPAR      # Input parameters \n",
    "1   1.0000000E-01    # Lambda1Input\n",
    "2   1.3000000E-01    # Lambda2Input\n",
    "3   1.1000000E+00    # Lambda3Input\n",
    "4   -5.0000000E-01    # Lambda4Input\n",
    "5   5.0000000E-01    # Lambda5Input\n",
    "6   0.000000E+00    # Lambda6Input\n",
    "7   0.000000E+00    # Lambda7Input\n",
    "8   0.000000E+00    # Lambda8Input\n",
    "9   0.000000E+00    # Lambda9Input\n",
    "10   0.000000E+00    # Lambda10Input\n",
    "11   0.000000E+00    # LambdahInput\n",
    "12   4.0000000E+04    # M12input\n",
    "\n",
    "15   5.0000000E+01    # TanBeta"
   ]
  },
  {
   "cell_type": "code",
   "execution_count": 22,
   "metadata": {
    "collapsed": false
   },
   "outputs": [],
   "source": [
    "a=hep(MODEL='Zee')\n",
    "a.LHA.blocks['MINPAR'].entries[15]='1.0000000E+01  # TanBeta'\n",
    "a.LHA.blocks['MINPAR'].entries[13]='1.000000E+04    # Mhinput'\n",
    "a.LHA.blocks['MINPAR'].entries[14]='1.000000E+02    # Muinput'\n",
    "#Block EPSEIN\n",
    "a.LHA.blocks['EPSEIN'].entries[1,1]='1.000000E-04         # epsE(1,1)'\n",
    "a.LHA.blocks['EPSEIN'].entries[1,2]='3.000000E-03         # epsE(1,2)'\n",
    "a.LHA.blocks['EPSEIN'].entries[1,3]='3.000000E-03         # epsE(1,3)'\n",
    "a.LHA.blocks['EPSEIN'].entries[2,1]='3.000000E-03         # epsE(2,1)'\n",
    "a.LHA.blocks['EPSEIN'].entries[2,2]='1.000000E-02         # epsE(2,2)'\n",
    "a.LHA.blocks['EPSEIN'].entries[2,3]='3.000000E-03         # epsE(2,3)'\n",
    "a.LHA.blocks['EPSEIN'].entries[3,1]='3.000000E-03         # epsE(3,1)'\n",
    "a.LHA.blocks['EPSEIN'].entries[3,2]='3.000000E-03         # epsE(3,2)'\n",
    "a.LHA.blocks['EPSEIN'].entries[3,3]='1.000000E-02         # epsE(3,3)'\n",
    "#Block YHIN \n",
    "a.LHA.blocks['YHIN'].entries[1,2]='1.000000E-02         # Yh(1,2)'\n",
    "a.LHA.blocks['YHIN'].entries[2,1]='-1.000000E-02        # Yh(2,1)'\n",
    "a.LHA.blocks['YHIN'].entries[2,3]='3.000000E-01         # Yh(2,3)'\n",
    "a.LHA.blocks['YHIN'].entries[3,2]='-3.000000E-01        # Yh(3,2)'\n",
    "spc=a.runSPheno()"
   ]
  },
  {
   "cell_type": "code",
   "execution_count": 23,
   "metadata": {
    "collapsed": false
   },
   "outputs": [
    {
     "data": {
      "text/plain": [
       "_dict([(25, 129.218082),\n",
       "       (35, 634.845698),\n",
       "       (36, 611.300021),\n",
       "       (37, 96.0840732),\n",
       "       (900037, 636.213683),\n",
       "       (23, 91.1887),\n",
       "       (24, 80.3497269),\n",
       "       (1, 0.005),\n",
       "       (3, 0.095),\n",
       "       (5, 4.18),\n",
       "       (2, 0.0025),\n",
       "       (4, 1.27),\n",
       "       (6, 173.5),\n",
       "       (11, 0.00051099893),\n",
       "       (13, 0.105658372),\n",
       "       (15, 1.77669),\n",
       "       (12, -2.24391415e-08),\n",
       "       (14, 0.000193702504),\n",
       "       (16, -0.000259328289)])"
      ]
     },
     "execution_count": 23,
     "metadata": {},
     "output_type": "execute_result"
    }
   ],
   "source": [
    "spc.blocks['MASS'].entries"
   ]
  }
 ],
 "metadata": {
  "kernelspec": {
   "display_name": "Python 2",
   "language": "python",
   "name": "python2"
  },
  "language_info": {
   "codemirror_mode": {
    "name": "ipython",
    "version": 2
   },
   "file_extension": ".py",
   "mimetype": "text/x-python",
   "name": "python",
   "nbconvert_exporter": "python",
   "pygments_lexer": "ipython2",
   "version": "2.7.11"
  }
 },
 "nbformat": 4,
 "nbformat_minor": 0
}
