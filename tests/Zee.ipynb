{
 "cells": [
  {
   "cell_type": "markdown",
   "metadata": {},
   "source": [
    "#  Zee model for neutrino masses"
   ]
  },
  {
   "cell_type": "code",
   "execution_count": 2,
   "metadata": {
    "collapsed": false
   },
   "outputs": [
    {
     "name": "stdout",
     "output_type": "stream",
     "text": [
      "Populating the interactive namespace from numpy and matplotlib\n"
     ]
    }
   ],
   "source": [
    "%pylab inline"
   ]
  },
  {
   "cell_type": "code",
   "execution_count": 3,
   "metadata": {
    "collapsed": false
   },
   "outputs": [],
   "source": [
    "import pandas as pd\n",
    "import numpy as np\n",
    "import os, sys, inspect\n",
    "import commands\n",
    "from hep import *"
   ]
  },
  {
   "cell_type": "markdown",
   "metadata": {},
   "source": [
    "\n",
    "## Check point"
   ]
  },
  {
   "cell_type": "code",
   "execution_count": 6,
   "metadata": {
    "collapsed": false
   },
   "outputs": [],
   "source": [
    "a=hep(MODEL='Zee')\n",
    "a.LHA.blocks['MINPAR'].entries[15]='1.0000000E+01  # TanBeta'\n",
    "a.LHA.blocks['MINPAR'].entries[13]='1.000000E+04    # Mhinput'\n",
    "a.LHA.blocks['MINPAR'].entries[14]='1.000000E+02    # Muinput'\n",
    "#Block EPSEIN\n",
    "a.LHA.blocks['EPSEIN'].entries[1,1]='1.000000E-04         # epsE(1,1)'\n",
    "a.LHA.blocks['EPSEIN'].entries[1,2]='3.000000E-03         # epsE(1,2)'\n",
    "a.LHA.blocks['EPSEIN'].entries[1,3]='3.000000E-03         # epsE(1,3)'\n",
    "a.LHA.blocks['EPSEIN'].entries[2,1]='3.000000E-03         # epsE(2,1)'\n",
    "a.LHA.blocks['EPSEIN'].entries[2,2]='1.000000E-02         # epsE(2,2)'\n",
    "a.LHA.blocks['EPSEIN'].entries[2,3]='3.000000E-03         # epsE(2,3)'\n",
    "a.LHA.blocks['EPSEIN'].entries[3,1]='3.000000E-03         # epsE(3,1)'\n",
    "a.LHA.blocks['EPSEIN'].entries[3,2]='3.000000E-03         # epsE(3,2)'\n",
    "a.LHA.blocks['EPSEIN'].entries[3,3]='1.000000E-02         # epsE(3,3)'\n",
    "#Block YHIN \n",
    "a.LHA.blocks['YHIN'].entries[1,2]='1.000000E-02         # Yh(1,2)'\n",
    "a.LHA.blocks['YHIN'].entries[2,1]='-1.000000E-02        # Yh(2,1)'\n",
    "a.LHA.blocks['YHIN'].entries[2,3]='3.000000E-01         # Yh(2,3)'\n",
    "a.LHA.blocks['YHIN'].entries[3,2]='-3.000000E-01        # Yh(3,2)'\n",
    "spc=a.runSPheno()"
   ]
  },
  {
   "cell_type": "code",
   "execution_count": 7,
   "metadata": {
    "collapsed": false
   },
   "outputs": [
    {
     "data": {
      "text/plain": [
       "OrderedDict([(25, 129.218082),\n",
       "             (35, 634.845698),\n",
       "             (36, 611.300021),\n",
       "             (37, 96.0840732),\n",
       "             (900037, 636.213683),\n",
       "             (23, 91.1887),\n",
       "             (24, 80.3497269),\n",
       "             (1, 0.005),\n",
       "             (3, 0.095),\n",
       "             (5, 4.18),\n",
       "             (2, 0.0025),\n",
       "             (4, 1.27),\n",
       "             (6, 173.5),\n",
       "             (11, 0.00051099893),\n",
       "             (13, 0.105658372),\n",
       "             (15, 1.77669),\n",
       "             (12, -2.24391415e-08),\n",
       "             (14, 0.000193702504),\n",
       "             (16, -0.000259328289)])"
      ]
     },
     "execution_count": 7,
     "metadata": {},
     "output_type": "execute_result"
    }
   ],
   "source": [
    "spc.blocks['MASS'].entries"
   ]
  }
 ],
 "metadata": {
  "kernelspec": {
   "display_name": "Python 2",
   "language": "python",
   "name": "python2"
  },
  "language_info": {
   "codemirror_mode": {
    "name": "ipython",
    "version": 2
   },
   "file_extension": ".py",
   "mimetype": "text/x-python",
   "name": "python",
   "nbconvert_exporter": "python",
   "pygments_lexer": "ipython2",
   "version": "2.7.9"
  }
 },
 "nbformat": 4,
 "nbformat_minor": 0
}
