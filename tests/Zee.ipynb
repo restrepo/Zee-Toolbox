{
 "cells": [
  {
   "cell_type": "markdown",
   "metadata": {},
   "source": [
    "#  Zee model for neutrino masses"
   ]
  },
  {
   "cell_type": "code",
   "execution_count": 13,
   "metadata": {
    "collapsed": false
   },
   "outputs": [
    {
     "name": "stdout",
     "output_type": "stream",
     "text": [
      "Populating the interactive namespace from numpy and matplotlib\n"
     ]
    }
   ],
   "source": [
    "%pylab inline"
   ]
  },
  {
   "cell_type": "code",
   "execution_count": 14,
   "metadata": {
    "collapsed": false
   },
   "outputs": [],
   "source": [
    "import pandas as pd\n",
    "import numpy as np\n",
    "import os, sys, inspect\n",
    "import commands\n",
    "from hep import *"
   ]
  },
  {
   "cell_type": "markdown",
   "metadata": {},
   "source": [
    "Check internal configs"
   ]
  },
  {
   "cell_type": "code",
   "execution_count": 15,
   "metadata": {
    "collapsed": false
   },
   "outputs": [],
   "source": [
    "working_branch='results'\n",
    "os.path.isfile('../config_repo.sh')\n",
    "oo=commands.getoutput('bash ../config_repo.sh')\n",
    "bg=commands.getoutput('git checkout %s' %working_branch)\n",
    "if bg.find('error')>-1:\n",
    "    print 'still in branch master'"
   ]
  },
  {
   "cell_type": "markdown",
   "metadata": {},
   "source": [
    "\n",
    "## Check point"
   ]
  },
  {
   "cell_type": "code",
   "execution_count": 19,
   "metadata": {
    "collapsed": false
   },
   "outputs": [],
   "source": [
    "a=hep(MODEL='Zee')"
   ]
  },
  {
   "cell_type": "code",
   "execution_count": 18,
   "metadata": {
    "collapsed": false
   },
   "outputs": [
    {
     "data": {
      "text/plain": [
       "_dict([(1, '1.0000000E-01  # Lambda1Input'),\n",
       "       (2, '1.3000000E-01  # Lambda2Input'),\n",
       "       (3, '1.1000000E+00  # Lambda3Input'),\n",
       "       (4, '-5.0000000E-01 # Lambda4Input'),\n",
       "       (5, '5.0000000E-01  # Lambda5Input'),\n",
       "       (6, '0.000000E+00   # Lambda6Input'),\n",
       "       (7, '0.000000E+00   # Lambda7Input'),\n",
       "       (8, '0.000000E+00   # Lambda8Input'),\n",
       "       (9, '0.000000E+00   # Lambda9Input'),\n",
       "       (10, '0.000000E+00   # Lambda10Input'),\n",
       "       (11, '0.000000E+00   # LambdahInput'),\n",
       "       (12, '4.0000000E+04  # M12input'),\n",
       "       (13, '1.0000000E+04  # Mhinput'),\n",
       "       (14, '1.0000000E+02  # Muinput'),\n",
       "       (15, '5.0000000E+01  # TanBeta')])"
      ]
     },
     "execution_count": 18,
     "metadata": {},
     "output_type": "execute_result"
    }
   ],
   "source": [
    "a.LHA.blocks['MINPAR'].entries"
   ]
  },
  {
   "cell_type": "markdown",
   "metadata": {},
   "source": [
    "From Higgs to interaction basis"
   ]
  },
  {
   "cell_type": "code",
   "execution_count": 30,
   "metadata": {
    "collapsed": true
   },
   "outputs": [],
   "source": [
    "# Parameters in the Higgs basis\n",
    "# Note that Lambdah and Lambda10 are basis independent\n",
    "v = 2.38711864E+02\n",
    "mh = 125.00000000 # higgs mass\n",
    "tanbeta=1e-2 \n",
    "beta =np.arctan(tanbeta)\n",
    "alfa = 0.00000000\n",
    "mH   = 130.00000000 # CP-even mass\n",
    "mA   = 150.00000000 # CP-odd mass\n",
    "mE1  = 170.0000000 # Light charged scalar\n",
    "mE2   = 180.0000000 # Heavy charged scalar\n",
    "delta = 0.200000  # Charged mixing angle\n",
    "st = np.sin(delta) \n",
    "ct = np.sqrt(1. - st**2)\n",
    "Lam2 = 0.0100000000      \n",
    "Lam3 = 0.0100000000\n",
    "Lam7 = 0.0100000000\n",
    "Lam8 = 0.0100000000\n",
    "Lam9 = 0.0100000000          \n",
    "Lam0 = 0.0100000000         \n",
    "lamh = 0.0100000000\n",
    "M33  = mE1**2*st**2 + mE2**2*ct**2 # Square 33 mass                    \n",
    "mHp  = mE1**2*ct**2 + mE2**2*st**2 # Square 'charged dopublet' mass\n",
    "mu   = ((mE2**2- mE1**2 )*np.sin(2*delta))/(np.sqrt(2.)*v) # mixing parameter\n",
    "k    = np.sin(2*delta)/(4*np.pi)**2*np.log(mE2**2/mE1**2)  # Loop parameter\n",
    "\n",
    "Lam1 = (mH**2*np.cos(beta-alfa)**2 + mh**2*np.sin(beta-alfa)**2 )/v**2\n",
    "M22  = mHp -v**2*Lam3/2.\n",
    "Lam4 = (mH**2*np.sin(beta-alfa)**2 + mh**2*np.cos(beta-alfa)**2 + mA**2 - 2*mHp)/v**2\n",
    "Lam5 = (mH**2*np.sin(beta-alfa)**2 + mh**2*np.cos(beta-alfa)**2 - mA**2 )/v**2\n",
    "Lam6 = (mh**2-mH**2)*np.sin(2*(beta-alfa))/(2*v**2)\n",
    "M11  = -1/2.*v**2*Lam1\n",
    "M12  = 1/2.*v**2*Lam6\n",
    "Mu2  = M33 - v**2*Lam8/2.\n",
    "\n",
    "# yukawa parameters\n",
    "\n",
    "o11 = 0.012\n",
    "o12 = 0.013\n",
    "o13 = 0.015\n",
    "o21 = 0.019\n",
    "o22 = 0.018\n",
    "o23 = 0.015\n",
    "o31 = 0.016\n",
    "o32 = 0.013\n",
    "o33 = 0.012\n",
    "f11 = 0.00000000\n",
    "f12 = 0.045\n",
    "f13 = 0.056\n",
    "f21 = -f12\n",
    "f22 = 0.0000000\n",
    "f23 = 0.010\n",
    "f31 = -f13\n",
    "f32 = -f23\n",
    "f33 = 0.0000000\n",
    "\n",
    "# ========= Rotation from Higgs basis to General basis (based in Haber paper 0504050)==================\n",
    "\n",
    "# scalar parameters\n",
    "\n",
    "lam1 = Lam1*np.cos(beta)**4 + Lam2*np.sin(beta)**4 + 1/2.0*(Lam3 + Lam4 + Lam5)*np.sin(2*beta)**2 - 2.0*np.sin(2*beta)*(Lam6*np.cos(beta)**2 + Lam7*np.sin(beta)**2)\n",
    "lam2 = Lam1*np.sin(beta)**4 + Lam2*np.cos(beta)**4 + 1/2.0*(Lam3 + Lam4 + Lam5)*np.sin(2*beta)**2 + 2.0*np.sin(2*beta)*(Lam6*np.sin(beta)**2 + Lam7*np.cos(beta)**2)\n",
    "lam3 = 1/4.0*(Lam1 + Lam2 - 2*(Lam3 + Lam4 + Lam5))*np.sin(2*beta)**2 + Lam3 + (Lam6 - Lam7)*np.sin(2*beta)*np.cos(2*beta)\n",
    "lam4 = 1/4.0*(Lam1 + Lam2 - 2*(Lam3 + Lam4 + Lam5))*np.sin(2*beta)**2 + Lam4 + (Lam6 - Lam7)*np.sin(2*beta)*np.cos(2*beta)\n",
    "lam5 = 1/4.0*(Lam1 + Lam2 - 2*(Lam3 + Lam4 + Lam5))*np.sin(2*beta)**2 + Lam5 + (Lam6 - Lam7)*np.sin(2*beta)*np.cos(2*beta)\n",
    "lam6 = 1/2.0*(Lam1*np.cos(beta)**2 - Lam2*np.sin(beta)**2 - (Lam3 + Lam4 + Lam5)*np.cos(2*beta))*np.sin(2*beta) + Lam6*np.cos(2*beta)*np.cos(3*beta) + Lam7*np.sin(2*beta)*np.sin(3*beta)\n",
    "lam7 = 1/2.0*(Lam1*np.sin(beta)**2 - Lam2*np.cos(beta)**2 - (Lam3 + Lam4 + Lam5)*np.cos(2*beta))*np.sin(2*beta) + Lam6*np.sin(2*beta)*np.sin(3*beta) + Lam7*np.cos(2*beta)*np.cos(3*beta)\n",
    "lam8 = Lam8*np.cos(beta)**2 + Lam9*np.sin(beta)**2 - Lam0*np.sin(2*beta)\n",
    "lam9 = Lam8*np.sin(beta)**2 + Lam9*np.cos(beta)**2 + Lam0*np.sin(2*beta)\n",
    "lam0 = 1/2.*(Lam8-Lam9)*np.sin(2*beta) + Lam0*np.cos(2*beta)\n",
    "m12  = -1/2.*np.sin(2*beta)*(M11 - M22) + M12*np.cos(2*beta)"
   ]
  },
  {
   "cell_type": "code",
   "execution_count": 34,
   "metadata": {
    "collapsed": false
   },
   "outputs": [],
   "source": [
    "# Block MINPAR\n",
    "a.LHA.blocks['MINPAR'].entries[1]=' %8E           # Lambda1Input ' %lam1\n",
    "a.LHA.blocks['MINPAR'].entries[2]=' %8E           # Lambda2Input ' %lam2 \n",
    "a.LHA.blocks['MINPAR'].entries[3]=' %8E           # Lambda3Input ' %lam3\n",
    "a.LHA.blocks['MINPAR'].entries[4]=' %8E           # Lambda4Input ' %lam4 \n",
    "a.LHA.blocks['MINPAR'].entries[5]=' %8E           # Lambda5Input ' %lam5 \n",
    "a.LHA.blocks['MINPAR'].entries[6]=' %8E           # Lambda6Input ' %lam6 \n",
    "a.LHA.blocks['MINPAR'].entries[7]=' %8E           # Lambda7Input ' %lam7 \n",
    "a.LHA.blocks['MINPAR'].entries[8]='%8E            # Lambda8Input ' %lam8\n",
    "a.LHA.blocks['MINPAR'].entries[9]=' %8E           # Lambda9Input ' %lam9 \n",
    "a.LHA.blocks['MINPAR'].entries[10]='%8E            # Lambda10Input ' %lam0\n",
    "a.LHA.blocks['MINPAR'].entries[11]='%8E            # LambdahInput ' %lamh\n",
    "a.LHA.blocks['MINPAR'].entries[12]='%8E            #  M12input '     %m12\n",
    "a.LHA.blocks['MINPAR'].entries[13]='%8E           # MhInput'      %Mu2\n",
    "a.LHA.blocks['MINPAR'].entries[14]='%8E           # MuInput'       %mu\n",
    "a.LHA.blocks['MINPAR'].entries[15]='%8E           # TanBeta'       %tanbeta\n",
    "#Block EPSEIN\n",
    "a.LHA.blocks['EPSEIN'].entries[1,1]=' %8E           # epsE(1,1)' %o11\n",
    "a.LHA.blocks['EPSEIN'].entries[1,2]=' %8E           # epsE(1,2)' %o12\n",
    "a.LHA.blocks['EPSEIN'].entries[1,3]=' %8E           # epsE(1,3)' %o13\n",
    "a.LHA.blocks['EPSEIN'].entries[2,1]=' %8E           # epsE(2,1)' %o21\n",
    "a.LHA.blocks['EPSEIN'].entries[2,2]=' %8E           # epsE(2,2)' %o22\n",
    "a.LHA.blocks['EPSEIN'].entries[2,3]=' %8E           # epsE(2,3)' %o23\n",
    "a.LHA.blocks['EPSEIN'].entries[3,1]=' %8E           # epsE(3,1)' %o31\n",
    "a.LHA.blocks['EPSEIN'].entries[3,2]=' %8E           # epsE(3,2)' %o32\n",
    "a.LHA.blocks['EPSEIN'].entries[3,3]=' %8E           # epsE(3,3)' %o33\n",
    "#Block YH \n",
    "a.LHA.blocks['YHIN'].entries[1,1]=' %8E           # YH(1,1)' %f11\n",
    "a.LHA.blocks['YHIN'].entries[1,2]=' %8E           # YH(1,2)' %f12\n",
    "a.LHA.blocks['YHIN'].entries[1,3]=' %8E           # YH(1,3)' %f13\n",
    "a.LHA.blocks['YHIN'].entries[2,1]=' %8E           # YH(2,1)' %f21\n",
    "a.LHA.blocks['YHIN'].entries[2,2]=' %8E           # YH(2,2)' %f22\n",
    "a.LHA.blocks['YHIN'].entries[2,3]=' %8E           # YH(2,3)' %f23\n",
    "a.LHA.blocks['YHIN'].entries[3,1]=' %8E           # YH(3,1)' %f31\n",
    "a.LHA.blocks['YHIN'].entries[3,2]=' %8E           # YH(3,2)' %f32\n",
    "a.LHA.blocks['YHIN'].entries[3,3]=' %8E           # YH(3,3)' %f33\n",
    "spc=a.runSPheno()"
   ]
  },
  {
   "cell_type": "code",
   "execution_count": 35,
   "metadata": {
    "collapsed": false
   },
   "outputs": [
    {
     "ename": "AttributeError",
     "evalue": "'bool' object has no attribute 'blocks'",
     "output_type": "error",
     "traceback": [
      "\u001b[1;31m---------------------------------------------------------------------------\u001b[0m",
      "\u001b[1;31mAttributeError\u001b[0m                            Traceback (most recent call last)",
      "\u001b[1;32m<ipython-input-35-0fb038f32bc6>\u001b[0m in \u001b[0;36m<module>\u001b[1;34m()\u001b[0m\n\u001b[1;32m----> 1\u001b[1;33m \u001b[0mspc\u001b[0m\u001b[1;33m.\u001b[0m\u001b[0mblocks\u001b[0m\u001b[1;33m[\u001b[0m\u001b[1;34m'MASS'\u001b[0m\u001b[1;33m]\u001b[0m\u001b[1;33m.\u001b[0m\u001b[0mentries\u001b[0m\u001b[1;33m\u001b[0m\u001b[0m\n\u001b[0m",
      "\u001b[1;31mAttributeError\u001b[0m: 'bool' object has no attribute 'blocks'"
     ]
    }
   ],
   "source": [
    "spc.blocks['MASS'].entries"
   ]
  },
  {
   "cell_type": "code",
   "execution_count": 26,
   "metadata": {
    "collapsed": false
   },
   "outputs": [],
   "source": [
    "a.LHA.blocks['MINPAR'].entries[15]='5.0000000E+01  # TanBeta'\n",
    "#Block EPSEIN\n",
    "a.LHA.blocks['EPSEIN'].entries[1,1]='1.000000E-04         # epsE(1,1)'\n",
    "a.LHA.blocks['EPSEIN'].entries[1,2]='3.000000E-03         # epsE(1,2)'\n",
    "a.LHA.blocks['EPSEIN'].entries[1,3]='3.000000E-03         # epsE(1,3)'\n",
    "a.LHA.blocks['EPSEIN'].entries[2,1]='3.000000E-03         # epsE(2,1)'\n",
    "a.LHA.blocks['EPSEIN'].entries[2,2]='1.000000E-02         # epsE(2,2)'\n",
    "a.LHA.blocks['EPSEIN'].entries[2,3]='3.000000E-03         # epsE(2,3)'\n",
    "a.LHA.blocks['EPSEIN'].entries[3,1]='3.000000E-03         # epsE(3,1)'\n",
    "a.LHA.blocks['EPSEIN'].entries[3,2]='3.000000E-03         # epsE(3,2)'\n",
    "a.LHA.blocks['EPSEIN'].entries[3,3]='1.000000E-02         # epsE(3,3)'\n",
    "#Block YHIN -MDF rd.ru\n",
    "a.LHA.blocks['YHIN'].entries[1,2]='1.000000E-02         # Yh(1,2)'\n",
    "a.LHA.blocks['YHIN'].entries[2,1]='-1.000000E-02        # Yh(2,1)'\n",
    "a.LHA.blocks['YHIN'].entries[2,3]='3.000000E-01         # Yh(2,3)'\n",
    "a.LHA.blocks['YHIN'].entries[3,2]='-3.000000E-01        # Yh(3,2)'\n",
    "spc=a.runSPheno()"
   ]
  },
  {
   "cell_type": "code",
   "execution_count": 27,
   "metadata": {
    "collapsed": false
   },
   "outputs": [
    {
     "data": {
      "text/plain": [
       "_dict([(25, 1.0),\n",
       "       (35, 36.2484445),\n",
       "       (36, 60.2215775),\n",
       "       (37, 102.761062),\n",
       "       (900037, 179.780329),\n",
       "       (23, 91.1887),\n",
       "       (24, 80.3497269),\n",
       "       (1, 0.005),\n",
       "       (3, 0.095),\n",
       "       (5, 4.18),\n",
       "       (2, 0.0025),\n",
       "       (4, 1.27),\n",
       "       (6, 173.5),\n",
       "       (11, 0.00051099893),\n",
       "       (13, 0.105658372),\n",
       "       (15, 1.77669),\n",
       "       (12, -9.76558145e-08),\n",
       "       (14, 0.000214326341),\n",
       "       (16, -0.000300403068)])"
      ]
     },
     "execution_count": 27,
     "metadata": {},
     "output_type": "execute_result"
    }
   ],
   "source": [
    "spc.blocks['MASS'].entries"
   ]
  },
  {
   "cell_type": "markdown",
   "metadata": {
    "collapsed": true
   },
   "source": [
    "## Commit changes\n",
    "[Switch to a terminal to commit changes](../terminals/1):\n",
    "[![T](http://mysitemyway.com/_shared/images/icons/full_color/terminal.png)](../terminals/1)\n",
    "into branch:"
   ]
  },
  {
   "cell_type": "code",
   "execution_count": 14,
   "metadata": {
    "collapsed": false
   },
   "outputs": [
    {
     "name": "stdout",
     "output_type": "stream",
     "text": [
      "* results\n"
     ]
    }
   ],
   "source": [
    "print commands.getoutput('git branch | grep ^*' )"
   ]
  },
  {
   "cell_type": "code",
   "execution_count": null,
   "metadata": {
    "collapsed": true
   },
   "outputs": [],
   "source": []
  }
 ],
 "metadata": {
  "kernelspec": {
   "display_name": "Python 2",
   "language": "python",
   "name": "python2"
  },
  "language_info": {
   "codemirror_mode": {
    "name": "ipython",
    "version": 2
   },
   "file_extension": ".py",
   "mimetype": "text/x-python",
   "name": "python",
   "nbconvert_exporter": "python",
   "pygments_lexer": "ipython2",
   "version": "2.7.11"
  }
 },
 "nbformat": 4,
 "nbformat_minor": 0
}
