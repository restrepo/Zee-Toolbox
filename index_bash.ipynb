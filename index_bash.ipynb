{
 "cells": [
  {
   "cell_type": "markdown",
   "metadata": {},
   "source": [
    "# SARAH Toolbox\n",
    "## Collection of models to be run from a docker image\n",
    "Launch virtual docker image: \n",
    "[![Binder](http://mybinder.org/badge.svg)](http://mybinder.org/repo/restrepo/Zee-Toolbox)\n",
    "\n",
    "[Jupyter home](./) (Files, New -> Terminal, etc)\n",
    "[![Home](http://www.incredimail.com/images/nav%20bar/home-icon.png)](./)\n",
    "\n",
    "### Highly recommended:\n",
    "[Run from a terminal](../terminals/1):\n",
    "[![T](http://mysitemyway.com/_shared/images/icons/full_color/terminal.png)](../terminals/1)\n",
    "## Implemented models\n",
    "Each model is to be run in a specific virtual machine. Follow the binder button in each github repo\n",
    "* `SARAH/Models/SSDM/` (for test purposes)\n",
    "* `SARAH/Models/SM/HighScale` (For RGE running: ./butler SM/HighScale) [Repo](https://github.com/restrepo/SM-Toolbox/)\n",
    "* `SARAH/Models/diphotonModels/LRmodels` (Not public yet)\n",
    "## Instructions to compile the model\n",
    "In `SPHENO` and `micromegas`\n",
    "\n",
    "See possible analysis based on the models in  [./tests](./tests) folder.\n",
    "\n",
    "Below we define the model to be compiled:"
   ]
  },
  {
   "cell_type": "code",
   "execution_count": 1,
   "metadata": {
    "collapsed": false
   },
   "outputs": [
    {
     "name": "stdout",
     "output_type": "stream",
     "text": []
    }
   ],
   "source": [
    "MODEL=Zee"
   ]
  },
  {
   "cell_type": "markdown",
   "metadata": {},
   "source": [
    "It is recomended that the commands be executed [from a terminal](../terminals/1)."
   ]
  },
  {
   "cell_type": "markdown",
   "metadata": {},
   "source": [
    "Be sure that `SPHENO/Makefile` have `gfortan` uncommented:"
   ]
  },
  {
   "cell_type": "code",
   "execution_count": 2,
   "metadata": {
    "collapsed": false
   },
   "outputs": [
    {
     "name": "stdout",
     "output_type": "stream",
     "text": [
      "# F90 = nagfor\r\n",
      "F90 = gfortran\r\n",
      "# F90 = g95\r\n",
      "# F90 = lf95\r\n",
      "#F90 = ifort\r\n"
     ]
    }
   ],
   "source": [
    "cat  SPHENO/Makefile | grep \"F90 =\""
   ]
  },
  {
   "cell_type": "code",
   "execution_count": 3,
   "metadata": {
    "collapsed": false
   },
   "outputs": [
    {
     "name": "stdout",
     "output_type": "stream",
     "text": [
      "make: Entering directory '/home/main/notebooks/SPHENO'\r\n",
      "cd /home/main/notebooks/SPHENO/Zee ; make F90=gfortran version=330.00\r\n",
      "make[1]: Entering directory '/home/main/notebooks/SPHENO/Zee'\r\n",
      "cd ../src ; make F90=gfortran \r\n",
      "make[2]: Entering directory '/home/main/notebooks/SPHENO/src'\r\n",
      "gfortran -c -O -J../include -I../include  -DGENERATIONMIXING  -DONLYDOUBLE Control.F90\r\n",
      "ar -ruc ../lib/libSPheno.a Control.o\r\n",
      "rm -f Control.o\r\n",
      "gfortran -c -O -J../include -I../include Mathematics.f90\r\n",
      "ar -ruc ../lib/libSPheno.a Mathematics.o\r\n",
      "rm -f Mathematics.o\r\n",
      "gfortran -c -O -J../include -I../include  -DGENERATIONMIXING  -DONLYDOUBLE RGEs.F90\r\n",
      "RGEs.F90:98:0: warning: extra tokens at end of #endif directive\r\n",
      " # endif SEESAWIII\r\n",
      " ^\r\n",
      "RGEs.F90:14740:0: warning: extra tokens at end of #endif directive\r\n",
      " #endif SEESAWIII\r\n",
      " ^\r\n",
      "RGEs.F90:19645:0: warning: extra tokens at end of #endif directive\r\n",
      " #endif SEESAWIII\r\n",
      " ^\r\n",
      "ar -ruc ../lib/libSPheno.a RGEs.o\r\n",
      "rm -f RGEs.o\r\n",
      "gfortran -c -O -J../include -I../include MathematicsQP.f90\r\n",
      "ar -ruc ../lib/libSPheno.a MathematicsQP.o\r\n",
      "rm -f MathematicsQP.o\r\n",
      "gfortran -c -O -J../include -I../include LoopFunctions.f90\r\n",
      "ar -ruc ../lib/libSPheno.a LoopFunctions.o\r\n",
      "rm -f LoopFunctions.o\r\n",
      "gfortran -c -O -J../include -I../include StandardModel.f90\r\n",
      "ar -ruc ../lib/libSPheno.a StandardModel.o\r\n",
      "rm -f StandardModel.o\r\n",
      "gfortran -c -O -J../include -I../include Model_Data.f90\r\n",
      "ar -ruc ../lib/libSPheno.a Model_Data.o\r\n",
      "rm -f Model_Data.o\r\n",
      "gfortran -c -O -J../include -I../include Couplings.f90\r\n",
      "ar -ruc ../lib/libSPheno.a Couplings.o\r\n",
      "rm -f Couplings.o\r\n",
      "gfortran -c -O -J../include -I../include SusyMasses.f90\r\n",
      "ar -ruc ../lib/libSPheno.a SusyMasses.o\r\n",
      "rm -f SusyMasses.o\r\n",
      "gfortran -c -O -J../include -I../include LoopCouplings.f90\r\n",
      "ar -ruc ../lib/libSPheno.a LoopCouplings.o\r\n",
      "rm -f LoopCouplings.o\r\n",
      "gfortran -c -O -J../include -I../include DecayFunctions.f90\r\n",
      "ar -ruc ../lib/libSPheno.a DecayFunctions.o\r\n",
      "rm -f DecayFunctions.o\r\n",
      "gfortran -c -O -J../include -I../include SusyDecays.f90\r\n",
      "ar -ruc ../lib/libSPheno.a SusyDecays.o\r\n",
      "rm -f SusyDecays.o\r\n",
      "gfortran -c -O -J../include -I../include ThreeBodyPhaseSpace.f90\r\n",
      "ar -ruc ../lib/libSPheno.a ThreeBodyPhaseSpace.o\r\n",
      "rm -f ThreeBodyPhaseSpace.o\r\n",
      "gfortran -c -O -J../include -I../include ThreeBodyPhaseSpaceS.f90\r\n",
      "ar -ruc ../lib/libSPheno.a ThreeBodyPhaseSpaceS.o\r\n",
      "rm -f ThreeBodyPhaseSpaceS.o\r\n",
      "gfortran -c -O -J../include -I../include Chargino3.f90\r\n",
      "ar -ruc ../lib/libSPheno.a Chargino3.o\r\n",
      "rm -f Chargino3.o\r\n",
      "gfortran -c -O -J../include -I../include Gluino3.f90\r\n",
      "ar -ruc ../lib/libSPheno.a Gluino3.o\r\n",
      "rm -f Gluino3.o\r\n",
      "gfortran -c -O -J../include -I../include Neutralino3.f90\r\n",
      "ar -ruc ../lib/libSPheno.a Neutralino3.o\r\n",
      "rm -f Neutralino3.o\r\n",
      "gfortran -c -O -J../include -I../include Stop3BodyDecays.f90\r\n",
      "ar -ruc ../lib/libSPheno.a Stop3BodyDecays.o\r\n",
      "rm -f Stop3BodyDecays.o\r\n",
      "gfortran -c -O -J../include -I../include Slepton3Body.f90\r\n",
      "ar -ruc ../lib/libSPheno.a Slepton3Body.o\r\n",
      "rm -f Slepton3Body.o\r\n",
      "gfortran -c -O -J../include -I../include BranchingRatios.f90\r\n",
      "ar -ruc ../lib/libSPheno.a BranchingRatios.o\r\n",
      "rm -f BranchingRatios.o\r\n",
      "gfortran -c -O -J../include -I../include  -DGENERATIONMIXING  -DONLYDOUBLE EplusEminusProduction.F90\r\n",
      "ar -ruc ../lib/libSPheno.a EplusEminusProduction.o\r\n",
      "rm -f EplusEminusProduction.o\r\n",
      "gfortran -c -O -J../include -I../include TwoLoopHiggsMass.f90\r\n",
      "ar -ruc ../lib/libSPheno.a TwoLoopHiggsMass.o\r\n",
      "rm -f TwoLoopHiggsMass.o\r\n",
      "gfortran -c -O -J../include -I../include  -DGENERATIONMIXING  -DONLYDOUBLE LoopMasses.F90\r\n",
      "ar -ruc ../lib/libSPheno.a LoopMasses.o\r\n",
      "rm -f LoopMasses.o\r\n",
      "gfortran -c -O -J../include -I../include  -DGENERATIONMIXING  -DONLYDOUBLE SugraRuns.F90\r\n",
      "SugraRuns.F90:1886:0: warning: extra tokens at end of #endif directive\r\n",
      " # endif SEESAWIII\r\n",
      " ^\r\n",
      "SugraRuns.F90:2783:0: warning: extra tokens at end of #endif directive\r\n",
      " # endif SEESAWIII\r\n",
      " ^\r\n",
      "SugraRuns.F90:2905:0: warning: extra tokens at end of #endif directive\r\n",
      " # endif SEESAWIII\r\n",
      " ^\r\n",
      "SugraRuns.F90:3099:0: warning: extra tokens at end of #endif directive\r\n",
      " # endif SEESAWIII\r\n",
      " ^\r\n",
      "SugraRuns.F90:4225:0: warning: extra tokens at end of #endif directive\r\n",
      " # endif SEESAWIII\r\n",
      " ^\r\n",
      "SugraRuns.F90:5118:0: warning: extra tokens at end of #endif directive\r\n",
      " # endif SEESAWIII\r\n",
      " ^\r\n",
      "SugraRuns.F90:5180:0: warning: extra tokens at end of #endif directive\r\n",
      " # endif SEESAWIII\r\n",
      " ^\r\n",
      "SugraRuns.F90:6101:0: warning: extra tokens at end of #endif directive\r\n",
      " # endif SEESAWIII\r\n",
      " ^\r\n",
      "SugraRuns.F90:6190:0: warning: extra tokens at end of #endif directive\r\n",
      " # endif SEESAWIII\r\n",
      " ^\r\n",
      "SugraRuns.F90:7207:0: warning: extra tokens at end of #endif directive\r\n",
      " # endif SEESAWIII\r\n",
      " ^\r\n",
      "SugraRuns.F90:7245:0: warning: extra tokens at end of #endif directive\r\n",
      " # endif SEESAWIII\r\n",
      " ^\r\n",
      "SugraRuns.F90:8010:0: warning: extra tokens at end of #endif directive\r\n",
      " # endif SEESAWIII\r\n",
      " ^\r\n",
      "ar -ruc ../lib/libSPheno.a SugraRuns.o\r\n",
      "rm -f SugraRuns.o\r\n",
      "gfortran -c -O -J../include -I../include Experiment.f90\r\n",
      "ar -ruc ../lib/libSPheno.a Experiment.o\r\n",
      "rm -f Experiment.o\r\n",
      "gfortran -c -O -J../include -I../include LowEnergy.f90\r\n",
      "ar -ruc ../lib/libSPheno.a LowEnergy.o\r\n",
      "rm -f LowEnergy.o\r\n",
      "gfortran -c -O -J../include -I../include NMSSM_tools.f90\r\n",
      "ar -ruc ../lib/libSPheno.a NMSSM_tools.o\r\n",
      "rm -f NMSSM_tools.o\r\n",
      "gfortran -c -O -J../include -I../include RPtools.f90\r\n",
      "ar -ruc ../lib/libSPheno.a RPtools.o\r\n",
      "rm -f RPtools.o\r\n",
      "gfortran -c -O -J../include -I../include LHC_observables.f90\r\n",
      "ar -ruc ../lib/libSPheno.a LHC_observables.o\r\n",
      "rm -f LHC_observables.o\r\n",
      "gfortran -c -O -J../include -I../include  -DGENERATIONMIXING  -DONLYDOUBLE InputOutput.F90\r\n",
      "ar -ruc ../lib/libSPheno.a InputOutput.o\r\n",
      "rm -f InputOutput.o\r\n",
      "gfortran -c -O -J../include -I../include  SPheno3.f90 \r\n",
      "gfortran -o SPheno -O   SPheno3.o ../lib/../lib/libSPheno.a\r\n",
      "mv SPheno ../bin\r\n",
      "make[2]: Leaving directory '/home/main/notebooks/SPHENO/src'\r\n",
      "make F90=gfortran ../lib/libSPhenoZee.a \r\n",
      "make[2]: Entering directory '/home/main/notebooks/SPHENO/Zee'\r\n",
      "gfortran -c -g -ffree-line-length-none -J../include -I../include   Model_Data_Zee.f90 \r\n",
      "ar -ruc ../lib/libSPhenoZee.a Model_Data_Zee.o\r\n",
      "rm -f Model_Data_Zee.o\r\n",
      "gfortran -c -g -ffree-line-length-none -J../include -I../include   RGEs_Zee.f90 \r\n",
      "ar -ruc ../lib/libSPhenoZee.a RGEs_Zee.o\r\n",
      "rm -f RGEs_Zee.o\r\n",
      "gfortran -c -g -ffree-line-length-none -J../include -I../include   Couplings_Zee.f90 \r\n",
      "ar -ruc ../lib/libSPhenoZee.a Couplings_Zee.o\r\n",
      "rm -f Couplings_Zee.o\r\n",
      "gfortran -c -g -ffree-line-length-none -J../include -I../include   SusyMasses_Zee.f90 \r\n",
      "ar -ruc ../lib/libSPhenoZee.a SusyMasses_Zee.o\r\n",
      "rm -f SusyMasses_Zee.o\r\n",
      "gfortran -c -g -ffree-line-length-none -J../include -I../include   TadpoleEquations_Zee.f90 \r\n",
      "ar -ruc ../lib/libSPhenoZee.a TadpoleEquations_Zee.o\r\n",
      "rm -f TadpoleEquations_Zee.o\r\n",
      "gfortran -c -g -ffree-line-length-none -J../include -I../include   LoopCouplings_Zee.f90 \r\n",
      "ar -ruc ../lib/libSPhenoZee.a LoopCouplings_Zee.o\r\n",
      "rm -f LoopCouplings_Zee.o\r\n",
      "gfortran -c -g -ffree-line-length-none -J../include -I../include   CouplingsForDecays_Zee.f90 \r\n",
      "ar -ruc ../lib/libSPhenoZee.a CouplingsForDecays_Zee.o\r\n",
      "rm -f CouplingsForDecays_Zee.o\r\n",
      "gfortran -c -g -ffree-line-length-none -J../include -I../include   SusyDecays_Zee.f90 \r\n",
      "ar -ruc ../lib/libSPhenoZee.a SusyDecays_Zee.o\r\n",
      "rm -f SusyDecays_Zee.o\r\n",
      "gfortran -c -g -ffree-line-length-none -J../include -I../include   Fu.f90 \r\n",
      "ar -ruc ../lib/libSPhenoZee.a Fu.o\r\n",
      "rm -f Fu.o\r\n",
      "gfortran -c -g -ffree-line-length-none -J../include -I../include   Fe.f90 \r\n",
      "ar -ruc ../lib/libSPhenoZee.a Fe.o\r\n",
      "rm -f Fe.o\r\n",
      "gfortran -c -g -ffree-line-length-none -J../include -I../include   Fd.f90 \r\n",
      "ar -ruc ../lib/libSPhenoZee.a Fd.o\r\n",
      "rm -f Fd.o\r\n",
      "gfortran -c -g -ffree-line-length-none -J../include -I../include   BranchingRatios_Zee.f90 \r\n",
      "ar -ruc ../lib/libSPhenoZee.a BranchingRatios_Zee.o\r\n",
      "rm -f BranchingRatios_Zee.o\r\n",
      "gfortran -c -g -ffree-line-length-none -J../include -I../include   LoopMasses_Zee.f90 \r\n",
      "ar -ruc ../lib/libSPhenoZee.a LoopMasses_Zee.o\r\n",
      "rm -f LoopMasses_Zee.o\r\n",
      "gfortran -c -g -ffree-line-length-none -J../include -I../include   HiggsCS_Zee.f90 \r\n",
      "ar -ruc ../lib/libSPhenoZee.a HiggsCS_Zee.o\r\n",
      "rm -f HiggsCS_Zee.o\r\n",
      "gfortran -c -g -ffree-line-length-none -J../include -I../include   RunSM_Zee.f90 \r\n",
      "ar -ruc ../lib/libSPhenoZee.a RunSM_Zee.o\r\n",
      "rm -f RunSM_Zee.o\r\n",
      "gfortran -c -g -ffree-line-length-none -J../include -I../include   LowEnergy_Zee.f90 \r\n",
      "ar -ruc ../lib/libSPhenoZee.a LowEnergy_Zee.o\r\n",
      "rm -f LowEnergy_Zee.o\r\n",
      "gfortran -c -g -ffree-line-length-none -J../include -I../include   FlavorKit_LFV_Zee.f90 \r\n",
      "ar -ruc ../lib/libSPhenoZee.a FlavorKit_LFV_Zee.o\r\n",
      "rm -f FlavorKit_LFV_Zee.o\r\n",
      "gfortran -c -g -ffree-line-length-none -J../include -I../include   FlavorKit_QFV_Zee.f90 \r\n",
      "ar -ruc ../lib/libSPhenoZee.a FlavorKit_QFV_Zee.o\r\n",
      "rm -f FlavorKit_QFV_Zee.o\r\n",
      "gfortran -c -g -ffree-line-length-none -J../include -I../include   FlavorKit_Observables_Zee.f90 \r\n",
      "ar -ruc ../lib/libSPhenoZee.a FlavorKit_Observables_Zee.o\r\n",
      "rm -f FlavorKit_Observables_Zee.o\r\n",
      "gfortran -c -g -ffree-line-length-none -J../include -I../include   InputOutput_Zee.f90 \r\n",
      "ar -ruc ../lib/libSPhenoZee.a InputOutput_Zee.o\r\n",
      "rm -f InputOutput_Zee.o\r\n",
      "make[2]: Leaving directory '/home/main/notebooks/SPHENO/Zee'\r\n",
      "make F90=gfortran SPhenoZee.o \r\n",
      "make[2]: Entering directory '/home/main/notebooks/SPHENO/Zee'\r\n",
      "gfortran -c -g -ffree-line-length-none -J../include -I../include   SPhenoZee.f90\r\n",
      "make[2]: Leaving directory '/home/main/notebooks/SPHENO/Zee'\r\n",
      "gfortran -o SPhenoZee -g   SPhenoZee.o ../lib/libSPhenoZee.a ../lib/libSPheno.a\r\n",
      "mv SPhenoZee ../bin\r\n",
      "rm SPhenoZee.o  \r\n",
      "make[1]: Leaving directory '/home/main/notebooks/SPHENO/Zee'\r\n",
      "make: Leaving directory '/home/main/notebooks/SPHENO'\r\n"
     ]
    }
   ],
   "source": [
    "./compile_spheno_directly.sh $MODEL"
   ]
  },
  {
   "cell_type": "markdown",
   "metadata": {},
   "source": [
    "## Now you can go to...\n",
    "[./tests](./tests/Zee.ipynb)"
   ]
  },
  {
   "cell_type": "markdown",
   "metadata": {},
   "source": [
    "make a work dir"
   ]
  },
  {
   "cell_type": "code",
   "execution_count": 4,
   "metadata": {
    "collapsed": false
   },
   "outputs": [
    {
     "name": "stdout",
     "output_type": "stream",
     "text": []
    }
   ],
   "source": [
    "mkdir -p work\n",
    "cd work"
   ]
  },
  {
   "cell_type": "markdown",
   "metadata": {},
   "source": [
    "If neccesary, turn ON tachyonic spectrum with `52 1 #...`"
   ]
  },
  {
   "cell_type": "code",
   "execution_count": 5,
   "metadata": {
    "collapsed": false
   },
   "outputs": [
    {
     "name": "stdout",
     "output_type": "stream",
     "text": []
    }
   ],
   "source": [
    "LHAINPUT=../SPHENO/$MODEL/LesHouches.in.$MODEL\n",
    "if [ -f ../SARAH/Models/$MODEL/LesHouches.in.Zee ]; then\n",
    "   LHAINPUT=../SARAH/Models/$MODEL/LesHouches.in.Zee\n",
    "fi"
   ]
  },
  {
   "cell_type": "code",
   "execution_count": 6,
   "metadata": {
    "collapsed": false
   },
   "outputs": [
    {
     "name": "stdout",
     "output_type": "stream",
     "text": [
      " 52 1               # Write spectrum in case of tachyonic states \r\n"
     ]
    }
   ],
   "source": [
    "cat $LHAINPUT | grep 'Write spectrum in case of tachyonic states' "
   ]
  },
  {
   "cell_type": "code",
   "execution_count": 7,
   "metadata": {
    "collapsed": false
   },
   "outputs": [
    {
     "name": "stdout",
     "output_type": "stream",
     "text": [
      " Calculating branching ratios and decay widths\r\n",
      " Calculating low energy constraints\r\n",
      " Writing output files\r\n",
      " Finished!\r\n"
     ]
    }
   ],
   "source": [
    "../SPHENO/bin/SPheno$MODEL $LHAINPUT"
   ]
  },
  {
   "cell_type": "markdown",
   "metadata": {},
   "source": [
    "Compile `micromegas` model"
   ]
  },
  {
   "cell_type": "code",
   "execution_count": 7,
   "metadata": {
    "collapsed": false
   },
   "outputs": [
    {
     "name": "stdout",
     "output_type": "stream",
     "text": [
      "make -C CalcHEP_src\r\n",
      "make[1]: Entering directory '/home/restrepo/prog/toolbox/toolbox/micromegas/CalcHEP_src'\r\n",
      "./getFlags\r\n",
      "C compiler detected\r\n",
      ": shared liblary generation OK\r\n",
      "X11 OK\r\n",
      "Fortran compiler is detected\r\n",
      "gfortran OK\r\n",
      "FFLAGS OK\r\n",
      "./sbin/setPath /home/restrepo/prog/toolbox/toolbox/micromegas/CalcHEP_src\r\n",
      "chmod 755 mkWORKdir\r\n",
      "make -C c_source\r\n",
      "make[2]: Entering directory '/home/restrepo/prog/toolbox/toolbox/micromegas/CalcHEP_src/c_source'\r\n",
      "make -C getmem \r\n",
      "make[3]: Entering directory '/home/restrepo/prog/toolbox/toolbox/micromegas/CalcHEP_src/c_source/getmem'\r\n",
      "make[3]: Nothing to be done for 'all'.\r\n",
      "make[3]: Leaving directory '/home/restrepo/prog/toolbox/toolbox/micromegas/CalcHEP_src/c_source/getmem'\r\n",
      "make -C chep_crt\r\n",
      "make[3]: Entering directory '/home/restrepo/prog/toolbox/toolbox/micromegas/CalcHEP_src/c_source/chep_crt'\r\n",
      "make[3]: Nothing to be done for 'all'.\r\n",
      "make[3]: Leaving directory '/home/restrepo/prog/toolbox/toolbox/micromegas/CalcHEP_src/c_source/chep_crt'\r\n",
      "make -C service2\r\n",
      "make[3]: Entering directory '/home/restrepo/prog/toolbox/toolbox/micromegas/CalcHEP_src/c_source/service2'\r\n",
      "make[3]: Nothing to be done for 'all'.\r\n",
      "make[3]: Leaving directory '/home/restrepo/prog/toolbox/toolbox/micromegas/CalcHEP_src/c_source/service2'\r\n",
      "make -C polynom  \r\n",
      "make[3]: Entering directory '/home/restrepo/prog/toolbox/toolbox/micromegas/CalcHEP_src/c_source/polynom'\r\n",
      "make[3]: '../../lib/symb.a' is up to date.\r\n",
      "make[3]: Leaving directory '/home/restrepo/prog/toolbox/toolbox/micromegas/CalcHEP_src/c_source/polynom'\r\n",
      "make -C ntools\r\n",
      "make[3]: Entering directory '/home/restrepo/prog/toolbox/toolbox/micromegas/CalcHEP_src/c_source/ntools'\r\n",
      "make[3]: Nothing to be done for 'all'.\r\n",
      "make[3]: Leaving directory '/home/restrepo/prog/toolbox/toolbox/micromegas/CalcHEP_src/c_source/ntools'\r\n",
      "make -C dynamicME\r\n",
      "make[3]: Entering directory '/home/restrepo/prog/toolbox/toolbox/micromegas/CalcHEP_src/c_source/dynamicME'\r\n",
      "make[3]: Nothing to be done for 'all'.\r\n",
      "make[3]: Leaving directory '/home/restrepo/prog/toolbox/toolbox/micromegas/CalcHEP_src/c_source/dynamicME'\r\n",
      "make -C plot \r\n",
      "make[3]: Entering directory '/home/restrepo/prog/toolbox/toolbox/micromegas/CalcHEP_src/c_source/plot'\r\n",
      "make[3]: '../../bin/plot_view' is up to date.\r\n",
      "make[3]: Leaving directory '/home/restrepo/prog/toolbox/toolbox/micromegas/CalcHEP_src/c_source/plot'\r\n",
      "make -C num \r\n",
      "make[3]: Entering directory '/home/restrepo/prog/toolbox/toolbox/micromegas/CalcHEP_src/c_source/num'\r\n",
      "make[3]: Nothing to be done for 'all'.\r\n",
      "make[3]: Leaving directory '/home/restrepo/prog/toolbox/toolbox/micromegas/CalcHEP_src/c_source/num'\r\n",
      "make -C tab\r\n",
      "make[3]: Entering directory '/home/restrepo/prog/toolbox/toolbox/micromegas/CalcHEP_src/c_source/tab'\r\n",
      "make[3]: Nothing to be done for 'all'.\r\n",
      "make[3]: Leaving directory '/home/restrepo/prog/toolbox/toolbox/micromegas/CalcHEP_src/c_source/tab'\r\n",
      "make -C SLHAplus\r\n",
      "make[3]: Entering directory '/home/restrepo/prog/toolbox/toolbox/micromegas/CalcHEP_src/c_source/SLHAplus'\r\n",
      "make[3]: Nothing to be done for 'all'.\r\n",
      "make[3]: Leaving directory '/home/restrepo/prog/toolbox/toolbox/micromegas/CalcHEP_src/c_source/SLHAplus'\r\n",
      "make -C mix_events\r\n",
      "make[3]: Entering directory '/home/restrepo/prog/toolbox/toolbox/micromegas/CalcHEP_src/c_source/mix_events'\r\n",
      "make[3]: Nothing to be done for 'all'.\r\n",
      "make[3]: Leaving directory '/home/restrepo/prog/toolbox/toolbox/micromegas/CalcHEP_src/c_source/mix_events'\r\n",
      "make -C symb\r\n",
      "make[3]: Entering directory '/home/restrepo/prog/toolbox/toolbox/micromegas/CalcHEP_src/c_source/symb'\r\n",
      "make[3]: Nothing to be done for 'all'.\r\n",
      "make[3]: Leaving directory '/home/restrepo/prog/toolbox/toolbox/micromegas/CalcHEP_src/c_source/symb'\r\n",
      "make[2]: Leaving directory '/home/restrepo/prog/toolbox/toolbox/micromegas/CalcHEP_src/c_source'\r\n",
      "#--------------------------------------------------------\r\n",
      "# CalcHEP has compiled successfuly and can be started.\r\n",
      "# The manual can be found on the CalcHEP website:\r\n",
      "#      http://theory.sinp.msu.ru/~pukhov/calchep.html\r\n",
      "# The next step is typically to run \r\n",
      "#      ./mkWORKdir  <new_dir>\r\n",
      "# where <new_dir> is the new directory where you will do\r\n",
      "# your calculations.  After creating this directory, you\r\n",
      "# should cd into it and run calchep or calchep_batch.\r\n",
      "# Please see the manual for further details.\r\n",
      "#---------------------------------------------------------\"\r\n",
      "make[1]: Leaving directory '/home/restrepo/prog/toolbox/toolbox/micromegas/CalcHEP_src'\r\n",
      "make -C sources\r\n",
      "make[1]: Entering directory '/home/restrepo/prog/toolbox/toolbox/micromegas/sources'\r\n",
      "make[1]: Nothing to be done for 'all'.\r\n",
      "make[1]: Leaving directory '/home/restrepo/prog/toolbox/toolbox/micromegas/sources'\r\n",
      "make -C CalcHEP_src\r\n",
      "make[1]: Entering directory '/home/restrepo/prog/toolbox/toolbox/micromegas/CalcHEP_src'\r\n",
      "./getFlags\r\n",
      "C compiler detected\r\n",
      ": shared liblary generation OK\r\n",
      "X11 OK\r\n",
      "Fortran compiler is detected\r\n",
      "gfortran OK\r\n",
      "FFLAGS OK\r\n",
      "./sbin/setPath /home/restrepo/prog/toolbox/toolbox/micromegas/CalcHEP_src\r\n",
      "chmod 755 mkWORKdir\r\n",
      "make -C c_source\r\n",
      "make[2]: Entering directory '/home/restrepo/prog/toolbox/toolbox/micromegas/CalcHEP_src/c_source'\r\n",
      "make -C getmem \r\n",
      "make[3]: Entering directory '/home/restrepo/prog/toolbox/toolbox/micromegas/CalcHEP_src/c_source/getmem'\r\n",
      "make[3]: Nothing to be done for 'all'.\r\n",
      "make[3]: Leaving directory '/home/restrepo/prog/toolbox/toolbox/micromegas/CalcHEP_src/c_source/getmem'\r\n",
      "make -C chep_crt\r\n",
      "make[3]: Entering directory '/home/restrepo/prog/toolbox/toolbox/micromegas/CalcHEP_src/c_source/chep_crt'\r\n",
      "make[3]: Nothing to be done for 'all'.\r\n",
      "make[3]: Leaving directory '/home/restrepo/prog/toolbox/toolbox/micromegas/CalcHEP_src/c_source/chep_crt'\r\n",
      "make -C service2\r\n",
      "make[3]: Entering directory '/home/restrepo/prog/toolbox/toolbox/micromegas/CalcHEP_src/c_source/service2'\r\n",
      "make[3]: Nothing to be done for 'all'.\r\n",
      "make[3]: Leaving directory '/home/restrepo/prog/toolbox/toolbox/micromegas/CalcHEP_src/c_source/service2'\r\n",
      "make -C polynom  \r\n",
      "make[3]: Entering directory '/home/restrepo/prog/toolbox/toolbox/micromegas/CalcHEP_src/c_source/polynom'\r\n",
      "make[3]: '../../lib/symb.a' is up to date.\r\n",
      "make[3]: Leaving directory '/home/restrepo/prog/toolbox/toolbox/micromegas/CalcHEP_src/c_source/polynom'\r\n",
      "make -C ntools\r\n",
      "make[3]: Entering directory '/home/restrepo/prog/toolbox/toolbox/micromegas/CalcHEP_src/c_source/ntools'\r\n",
      "make[3]: Nothing to be done for 'all'.\r\n",
      "make[3]: Leaving directory '/home/restrepo/prog/toolbox/toolbox/micromegas/CalcHEP_src/c_source/ntools'\r\n",
      "make -C dynamicME\r\n",
      "make[3]: Entering directory '/home/restrepo/prog/toolbox/toolbox/micromegas/CalcHEP_src/c_source/dynamicME'\r\n",
      "make[3]: Nothing to be done for 'all'.\r\n",
      "make[3]: Leaving directory '/home/restrepo/prog/toolbox/toolbox/micromegas/CalcHEP_src/c_source/dynamicME'\r\n",
      "make -C plot \r\n",
      "make[3]: Entering directory '/home/restrepo/prog/toolbox/toolbox/micromegas/CalcHEP_src/c_source/plot'\r\n",
      "make[3]: '../../bin/plot_view' is up to date.\r\n",
      "make[3]: Leaving directory '/home/restrepo/prog/toolbox/toolbox/micromegas/CalcHEP_src/c_source/plot'\r\n",
      "make -C num \r\n",
      "make[3]: Entering directory '/home/restrepo/prog/toolbox/toolbox/micromegas/CalcHEP_src/c_source/num'\r\n",
      "make[3]: Nothing to be done for 'all'.\r\n",
      "make[3]: Leaving directory '/home/restrepo/prog/toolbox/toolbox/micromegas/CalcHEP_src/c_source/num'\r\n",
      "make -C tab\r\n",
      "make[3]: Entering directory '/home/restrepo/prog/toolbox/toolbox/micromegas/CalcHEP_src/c_source/tab'\r\n",
      "make[3]: Nothing to be done for 'all'.\r\n",
      "make[3]: Leaving directory '/home/restrepo/prog/toolbox/toolbox/micromegas/CalcHEP_src/c_source/tab'\r\n",
      "make -C SLHAplus\r\n",
      "make[3]: Entering directory '/home/restrepo/prog/toolbox/toolbox/micromegas/CalcHEP_src/c_source/SLHAplus'\r\n",
      "make[3]: Nothing to be done for 'all'.\r\n",
      "make[3]: Leaving directory '/home/restrepo/prog/toolbox/toolbox/micromegas/CalcHEP_src/c_source/SLHAplus'\r\n",
      "make -C mix_events\r\n",
      "make[3]: Entering directory '/home/restrepo/prog/toolbox/toolbox/micromegas/CalcHEP_src/c_source/mix_events'\r\n",
      "make[3]: Nothing to be done for 'all'.\r\n",
      "make[3]: Leaving directory '/home/restrepo/prog/toolbox/toolbox/micromegas/CalcHEP_src/c_source/mix_events'\r\n",
      "make -C symb\r\n",
      "make[3]: Entering directory '/home/restrepo/prog/toolbox/toolbox/micromegas/CalcHEP_src/c_source/symb'\r\n",
      "make[3]: Nothing to be done for 'all'.\r\n",
      "make[3]: Leaving directory '/home/restrepo/prog/toolbox/toolbox/micromegas/CalcHEP_src/c_source/symb'\r\n",
      "make[2]: Leaving directory '/home/restrepo/prog/toolbox/toolbox/micromegas/CalcHEP_src/c_source'\r\n",
      "#--------------------------------------------------------\r\n",
      "# CalcHEP has compiled successfuly and can be started.\r\n",
      "# The manual can be found on the CalcHEP website:\r\n",
      "#      http://theory.sinp.msu.ru/~pukhov/calchep.html\r\n",
      "# The next step is typically to run \r\n",
      "#      ./mkWORKdir  <new_dir>\r\n",
      "# where <new_dir> is the new directory where you will do\r\n",
      "# your calculations.  After creating this directory, you\r\n",
      "# should cd into it and run calchep or calchep_batch.\r\n",
      "# Please see the manual for further details.\r\n",
      "#---------------------------------------------------------\"\r\n",
      "make[1]: Leaving directory '/home/restrepo/prog/toolbox/toolbox/micromegas/CalcHEP_src'\r\n",
      "make -C sources\r\n",
      "make[1]: Entering directory '/home/restrepo/prog/toolbox/toolbox/micromegas/sources'\r\n",
      "make[1]: Nothing to be done for 'all'.\r\n",
      "make[1]: Leaving directory '/home/restrepo/prog/toolbox/toolbox/micromegas/sources'\r\n",
      "make -C work\r\n",
      "make[1]: Entering directory '/home/restrepo/prog/toolbox/toolbox/micromegas/LRDM/work'\r\n",
      "make[1]: Nothing to be done for 'all'.\r\n",
      "make[1]: Leaving directory '/home/restrepo/prog/toolbox/toolbox/micromegas/LRDM/work'\r\n",
      "make -C lib\r\n",
      "make[1]: Entering directory '/home/restrepo/prog/toolbox/toolbox/micromegas/LRDM/lib'\r\n",
      "make[1]: Nothing to be done for 'all'.\r\n",
      "make[1]: Leaving directory '/home/restrepo/prog/toolbox/toolbox/micromegas/LRDM/lib'\r\n",
      "g++     -g -fPIC  -o CalcOmega CalcOmega.cpp  lib/aLib.a ../sources/micromegas.a  /home/restrepo/prog/toolbox/toolbox/micromegas/CalcHEP_src/lib/dynamic_me.a ../sources/micromegas.a work/work_aux.a  lib/aLib.a   /home/restrepo/prog/toolbox/toolbox/micromegas/CalcHEP_src/lib/sqme_aux.so /home/restrepo/prog/toolbox/toolbox/micromegas/CalcHEP_src/lib/libSLHAplus.a /home/restrepo/prog/toolbox/toolbox/micromegas/CalcHEP_src/lib/num_c.a /home/restrepo/prog/toolbox/toolbox/micromegas/CalcHEP_src/lib/ntools.a   /home/restrepo/prog/toolbox/toolbox/micromegas/CalcHEP_src/lib/serv.a -lX11  -rdynamic -ldl   -lm -lpthread\r\n"
     ]
    }
   ],
   "source": [
    "cd ../micromegas\n",
    "make\n",
    "make\n",
    "cd $MODEL\n",
    "make main=CalcOmega.cpp"
   ]
  },
  {
   "cell_type": "markdown",
   "metadata": {},
   "source": [
    "Run micromegas"
   ]
  },
  {
   "cell_type": "code",
   "execution_count": 9,
   "metadata": {
    "collapsed": false
   },
   "outputs": [
    {
     "name": "stdout",
     "output_type": "stream",
     "text": [
      "can not calculate parameter rd\r\n",
      "sortOddparticles err=19\r\n",
      "\r\n",
      "Masses of odd sector Particles:\r\n",
      "~c0  : Mc0   =     0.0 || ~cp  : Mcp   =     0.0 || ~cpp : Mcpp  =     0.0 \r\n",
      "\r\n",
      "PROCESS: Zp->2*x\r\n",
      "cannot calculate constr\r\n",
      "Xf=2.50e+01 Omega h^2=-1.00e+00\r\n",
      "\r\n",
      "Segmentation fault\r\n"
     ]
    }
   ],
   "source": [
    "if [ \"$MODEL\" != SMHighScale ]; then\n",
    "    ./CalcOmega SPheno.spc.$MODEL\n",
    "fi"
   ]
  },
  {
   "cell_type": "code",
   "execution_count": null,
   "metadata": {
    "collapsed": true
   },
   "outputs": [],
   "source": []
  }
 ],
 "metadata": {
  "kernelspec": {
   "display_name": "Bash",
   "language": "bash",
   "name": "bash"
  },
  "language_info": {
   "codemirror_mode": "shell",
   "file_extension": ".sh",
   "mimetype": "text/x-sh",
   "name": "bash"
  }
 },
 "nbformat": 4,
 "nbformat_minor": 0
}
